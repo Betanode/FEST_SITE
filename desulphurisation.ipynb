{
 "cells": [
  {
   "cell_type": "markdown",
   "id": "56e630aa",
   "metadata": {},
   "source": [
    "# desulphurisation - predictor"
   ]
  },
  {
   "cell_type": "code",
   "execution_count": 1,
   "id": "677138ac",
   "metadata": {},
   "outputs": [],
   "source": [
    "import pandas as pd"
   ]
  },
  {
   "cell_type": "code",
   "execution_count": 2,
   "id": "ee83d4c0",
   "metadata": {},
   "outputs": [],
   "source": [
    "sulphur = pd.read_csv(\"ordata.csv\")"
   ]
  },
  {
   "cell_type": "code",
   "execution_count": 3,
   "id": "41a1f26e",
   "metadata": {},
   "outputs": [
    {
     "data": {
      "text/html": [
       "<div>\n",
       "<style scoped>\n",
       "    .dataframe tbody tr th:only-of-type {\n",
       "        vertical-align: middle;\n",
       "    }\n",
       "\n",
       "    .dataframe tbody tr th {\n",
       "        vertical-align: top;\n",
       "    }\n",
       "\n",
       "    .dataframe thead th {\n",
       "        text-align: right;\n",
       "    }\n",
       "</style>\n",
       "<table border=\"1\" class=\"dataframe\">\n",
       "  <thead>\n",
       "    <tr style=\"text-align: right;\">\n",
       "      <th></th>\n",
       "      <th>CASTNO</th>\n",
       "      <th>HM_WT</th>\n",
       "      <th>AIM_S</th>\n",
       "      <th>HM_S</th>\n",
       "      <th>HM_C</th>\n",
       "      <th>HM_SI</th>\n",
       "      <th>HM_TI</th>\n",
       "      <th>HM_MN</th>\n",
       "      <th>CAC2</th>\n",
       "      <th>MG</th>\n",
       "      <th>HM_TEMP</th>\n",
       "      <th>CAC2_INJ_TIME</th>\n",
       "      <th>MG_INJ_TIME</th>\n",
       "      <th>DS_S</th>\n",
       "    </tr>\n",
       "  </thead>\n",
       "  <tbody>\n",
       "    <tr>\n",
       "      <th>0</th>\n",
       "      <td>V99790</td>\n",
       "      <td>171</td>\n",
       "      <td>0.005</td>\n",
       "      <td>0.040</td>\n",
       "      <td>4.572</td>\n",
       "      <td>0.518</td>\n",
       "      <td>0.069</td>\n",
       "      <td>0.040</td>\n",
       "      <td>347</td>\n",
       "      <td>49</td>\n",
       "      <td>1387.0</td>\n",
       "      <td>10</td>\n",
       "      <td>4</td>\n",
       "      <td>0.009</td>\n",
       "    </tr>\n",
       "    <tr>\n",
       "      <th>1</th>\n",
       "      <td>V99791</td>\n",
       "      <td>161</td>\n",
       "      <td>0.005</td>\n",
       "      <td>0.035</td>\n",
       "      <td>4.580</td>\n",
       "      <td>0.559</td>\n",
       "      <td>0.070</td>\n",
       "      <td>0.041</td>\n",
       "      <td>361</td>\n",
       "      <td>45</td>\n",
       "      <td>1386.0</td>\n",
       "      <td>10</td>\n",
       "      <td>4</td>\n",
       "      <td>0.007</td>\n",
       "    </tr>\n",
       "    <tr>\n",
       "      <th>2</th>\n",
       "      <td>V99789</td>\n",
       "      <td>170</td>\n",
       "      <td>0.005</td>\n",
       "      <td>0.042</td>\n",
       "      <td>4.590</td>\n",
       "      <td>0.468</td>\n",
       "      <td>0.044</td>\n",
       "      <td>0.036</td>\n",
       "      <td>355</td>\n",
       "      <td>52</td>\n",
       "      <td>1368.0</td>\n",
       "      <td>9</td>\n",
       "      <td>4</td>\n",
       "      <td>0.013</td>\n",
       "    </tr>\n",
       "    <tr>\n",
       "      <th>3</th>\n",
       "      <td>V99787</td>\n",
       "      <td>159</td>\n",
       "      <td>0.005</td>\n",
       "      <td>0.034</td>\n",
       "      <td>4.530</td>\n",
       "      <td>0.737</td>\n",
       "      <td>0.077</td>\n",
       "      <td>0.040</td>\n",
       "      <td>313</td>\n",
       "      <td>44</td>\n",
       "      <td>1401.0</td>\n",
       "      <td>9</td>\n",
       "      <td>4</td>\n",
       "      <td>0.010</td>\n",
       "    </tr>\n",
       "    <tr>\n",
       "      <th>4</th>\n",
       "      <td>V99782</td>\n",
       "      <td>162</td>\n",
       "      <td>0.005</td>\n",
       "      <td>0.042</td>\n",
       "      <td>4.560</td>\n",
       "      <td>0.443</td>\n",
       "      <td>0.056</td>\n",
       "      <td>0.037</td>\n",
       "      <td>360</td>\n",
       "      <td>55</td>\n",
       "      <td>1346.0</td>\n",
       "      <td>10</td>\n",
       "      <td>5</td>\n",
       "      <td>0.013</td>\n",
       "    </tr>\n",
       "  </tbody>\n",
       "</table>\n",
       "</div>"
      ],
      "text/plain": [
       "   CASTNO  HM_WT  AIM_S   HM_S   HM_C  HM_SI  HM_TI  HM_MN  CAC2  MG  HM_TEMP  \\\n",
       "0  V99790    171  0.005  0.040  4.572  0.518  0.069  0.040   347  49   1387.0   \n",
       "1  V99791    161  0.005  0.035  4.580  0.559  0.070  0.041   361  45   1386.0   \n",
       "2  V99789    170  0.005  0.042  4.590  0.468  0.044  0.036   355  52   1368.0   \n",
       "3  V99787    159  0.005  0.034  4.530  0.737  0.077  0.040   313  44   1401.0   \n",
       "4  V99782    162  0.005  0.042  4.560  0.443  0.056  0.037   360  55   1346.0   \n",
       "\n",
       "   CAC2_INJ_TIME  MG_INJ_TIME   DS_S  \n",
       "0             10            4  0.009  \n",
       "1             10            4  0.007  \n",
       "2              9            4  0.013  \n",
       "3              9            4  0.010  \n",
       "4             10            5  0.013  "
      ]
     },
     "execution_count": 3,
     "metadata": {},
     "output_type": "execute_result"
    }
   ],
   "source": [
    "sulphur.head()"
   ]
  },
  {
   "cell_type": "code",
   "execution_count": 4,
   "id": "352f2770",
   "metadata": {},
   "outputs": [
    {
     "name": "stdout",
     "output_type": "stream",
     "text": [
      "<class 'pandas.core.frame.DataFrame'>\n",
      "RangeIndex: 6697 entries, 0 to 6696\n",
      "Data columns (total 14 columns):\n",
      " #   Column         Non-Null Count  Dtype  \n",
      "---  ------         --------------  -----  \n",
      " 0   CASTNO         6697 non-null   object \n",
      " 1   HM_WT          6697 non-null   int64  \n",
      " 2   AIM_S          6697 non-null   float64\n",
      " 3   HM_S           6697 non-null   float64\n",
      " 4   HM_C           6697 non-null   float64\n",
      " 5   HM_SI          6697 non-null   float64\n",
      " 6   HM_TI          6697 non-null   float64\n",
      " 7   HM_MN          6697 non-null   float64\n",
      " 8   CAC2           6697 non-null   int64  \n",
      " 9   MG             6697 non-null   int64  \n",
      " 10  HM_TEMP        6094 non-null   float64\n",
      " 11  CAC2_INJ_TIME  6697 non-null   int64  \n",
      " 12  MG_INJ_TIME    6697 non-null   int64  \n",
      " 13  DS_S           6697 non-null   float64\n",
      "dtypes: float64(8), int64(5), object(1)\n",
      "memory usage: 732.6+ KB\n"
     ]
    }
   ],
   "source": [
    "sulphur.info()"
   ]
  },
  {
   "cell_type": "code",
   "execution_count": 5,
   "id": "68c0add6",
   "metadata": {},
   "outputs": [
    {
     "data": {
      "text/plain": [
       "0       0.005\n",
       "1       0.005\n",
       "2       0.005\n",
       "3       0.005\n",
       "4       0.005\n",
       "        ...  \n",
       "6692    0.005\n",
       "6693    0.005\n",
       "6694    0.005\n",
       "6695    0.005\n",
       "6696    0.005\n",
       "Name: AIM_S, Length: 6697, dtype: float64"
      ]
     },
     "execution_count": 5,
     "metadata": {},
     "output_type": "execute_result"
    }
   ],
   "source": [
    "sulphur['AIM_S']"
   ]
  },
  {
   "cell_type": "code",
   "execution_count": 6,
   "id": "163a6f68",
   "metadata": {},
   "outputs": [
    {
     "data": {
      "text/plain": [
       "0.005    5604\n",
       "0.003     717\n",
       "0.008     328\n",
       "0.010      46\n",
       "0.012       2\n",
       "Name: AIM_S, dtype: int64"
      ]
     },
     "execution_count": 6,
     "metadata": {},
     "output_type": "execute_result"
    }
   ],
   "source": [
    "sulphur['AIM_S'].value_counts()"
   ]
  },
  {
   "cell_type": "code",
   "execution_count": 7,
   "id": "12f60a64",
   "metadata": {},
   "outputs": [
    {
     "data": {
      "text/html": [
       "<div>\n",
       "<style scoped>\n",
       "    .dataframe tbody tr th:only-of-type {\n",
       "        vertical-align: middle;\n",
       "    }\n",
       "\n",
       "    .dataframe tbody tr th {\n",
       "        vertical-align: top;\n",
       "    }\n",
       "\n",
       "    .dataframe thead th {\n",
       "        text-align: right;\n",
       "    }\n",
       "</style>\n",
       "<table border=\"1\" class=\"dataframe\">\n",
       "  <thead>\n",
       "    <tr style=\"text-align: right;\">\n",
       "      <th></th>\n",
       "      <th>HM_WT</th>\n",
       "      <th>AIM_S</th>\n",
       "      <th>HM_S</th>\n",
       "      <th>HM_C</th>\n",
       "      <th>HM_SI</th>\n",
       "      <th>HM_TI</th>\n",
       "      <th>HM_MN</th>\n",
       "      <th>CAC2</th>\n",
       "      <th>MG</th>\n",
       "      <th>HM_TEMP</th>\n",
       "      <th>CAC2_INJ_TIME</th>\n",
       "      <th>MG_INJ_TIME</th>\n",
       "      <th>DS_S</th>\n",
       "    </tr>\n",
       "  </thead>\n",
       "  <tbody>\n",
       "    <tr>\n",
       "      <th>count</th>\n",
       "      <td>6697.000000</td>\n",
       "      <td>6697.000000</td>\n",
       "      <td>6697.000000</td>\n",
       "      <td>6697.000000</td>\n",
       "      <td>6697.000000</td>\n",
       "      <td>6697.000000</td>\n",
       "      <td>6697.000000</td>\n",
       "      <td>6697.000000</td>\n",
       "      <td>6697.000000</td>\n",
       "      <td>6094.000000</td>\n",
       "      <td>6697.000000</td>\n",
       "      <td>6697.000000</td>\n",
       "      <td>6697.000000</td>\n",
       "    </tr>\n",
       "    <tr>\n",
       "      <th>mean</th>\n",
       "      <td>165.411229</td>\n",
       "      <td>0.004969</td>\n",
       "      <td>0.039572</td>\n",
       "      <td>4.562660</td>\n",
       "      <td>0.612587</td>\n",
       "      <td>0.066564</td>\n",
       "      <td>0.042735</td>\n",
       "      <td>354.522771</td>\n",
       "      <td>50.390623</td>\n",
       "      <td>1388.349688</td>\n",
       "      <td>9.372555</td>\n",
       "      <td>4.919068</td>\n",
       "      <td>0.007524</td>\n",
       "    </tr>\n",
       "    <tr>\n",
       "      <th>std</th>\n",
       "      <td>6.315830</td>\n",
       "      <td>0.001027</td>\n",
       "      <td>0.009874</td>\n",
       "      <td>0.053558</td>\n",
       "      <td>0.166054</td>\n",
       "      <td>0.014707</td>\n",
       "      <td>0.004797</td>\n",
       "      <td>59.711921</td>\n",
       "      <td>9.244264</td>\n",
       "      <td>37.644318</td>\n",
       "      <td>1.708239</td>\n",
       "      <td>1.196379</td>\n",
       "      <td>0.002783</td>\n",
       "    </tr>\n",
       "    <tr>\n",
       "      <th>min</th>\n",
       "      <td>140.000000</td>\n",
       "      <td>0.003000</td>\n",
       "      <td>0.011000</td>\n",
       "      <td>4.120000</td>\n",
       "      <td>0.186000</td>\n",
       "      <td>0.020000</td>\n",
       "      <td>0.013000</td>\n",
       "      <td>209.000000</td>\n",
       "      <td>0.000000</td>\n",
       "      <td>1226.000000</td>\n",
       "      <td>5.000000</td>\n",
       "      <td>0.000000</td>\n",
       "      <td>0.001000</td>\n",
       "    </tr>\n",
       "    <tr>\n",
       "      <th>25%</th>\n",
       "      <td>161.000000</td>\n",
       "      <td>0.005000</td>\n",
       "      <td>0.033000</td>\n",
       "      <td>4.540000</td>\n",
       "      <td>0.496000</td>\n",
       "      <td>0.057000</td>\n",
       "      <td>0.040000</td>\n",
       "      <td>318.000000</td>\n",
       "      <td>45.000000</td>\n",
       "      <td>1366.000000</td>\n",
       "      <td>8.000000</td>\n",
       "      <td>4.000000</td>\n",
       "      <td>0.005000</td>\n",
       "    </tr>\n",
       "    <tr>\n",
       "      <th>50%</th>\n",
       "      <td>165.000000</td>\n",
       "      <td>0.005000</td>\n",
       "      <td>0.038000</td>\n",
       "      <td>4.560000</td>\n",
       "      <td>0.586000</td>\n",
       "      <td>0.066000</td>\n",
       "      <td>0.042000</td>\n",
       "      <td>345.000000</td>\n",
       "      <td>49.000000</td>\n",
       "      <td>1389.000000</td>\n",
       "      <td>9.000000</td>\n",
       "      <td>5.000000</td>\n",
       "      <td>0.007000</td>\n",
       "    </tr>\n",
       "    <tr>\n",
       "      <th>75%</th>\n",
       "      <td>170.000000</td>\n",
       "      <td>0.005000</td>\n",
       "      <td>0.045000</td>\n",
       "      <td>4.590000</td>\n",
       "      <td>0.706000</td>\n",
       "      <td>0.075000</td>\n",
       "      <td>0.046000</td>\n",
       "      <td>380.000000</td>\n",
       "      <td>55.000000</td>\n",
       "      <td>1411.000000</td>\n",
       "      <td>10.000000</td>\n",
       "      <td>5.000000</td>\n",
       "      <td>0.009000</td>\n",
       "    </tr>\n",
       "    <tr>\n",
       "      <th>max</th>\n",
       "      <td>180.000000</td>\n",
       "      <td>0.012000</td>\n",
       "      <td>0.095000</td>\n",
       "      <td>4.770000</td>\n",
       "      <td>1.644000</td>\n",
       "      <td>0.145000</td>\n",
       "      <td>0.085000</td>\n",
       "      <td>1283.000000</td>\n",
       "      <td>198.000000</td>\n",
       "      <td>1574.000000</td>\n",
       "      <td>25.000000</td>\n",
       "      <td>15.000000</td>\n",
       "      <td>0.024000</td>\n",
       "    </tr>\n",
       "  </tbody>\n",
       "</table>\n",
       "</div>"
      ],
      "text/plain": [
       "             HM_WT        AIM_S         HM_S         HM_C        HM_SI  \\\n",
       "count  6697.000000  6697.000000  6697.000000  6697.000000  6697.000000   \n",
       "mean    165.411229     0.004969     0.039572     4.562660     0.612587   \n",
       "std       6.315830     0.001027     0.009874     0.053558     0.166054   \n",
       "min     140.000000     0.003000     0.011000     4.120000     0.186000   \n",
       "25%     161.000000     0.005000     0.033000     4.540000     0.496000   \n",
       "50%     165.000000     0.005000     0.038000     4.560000     0.586000   \n",
       "75%     170.000000     0.005000     0.045000     4.590000     0.706000   \n",
       "max     180.000000     0.012000     0.095000     4.770000     1.644000   \n",
       "\n",
       "             HM_TI        HM_MN         CAC2           MG      HM_TEMP  \\\n",
       "count  6697.000000  6697.000000  6697.000000  6697.000000  6094.000000   \n",
       "mean      0.066564     0.042735   354.522771    50.390623  1388.349688   \n",
       "std       0.014707     0.004797    59.711921     9.244264    37.644318   \n",
       "min       0.020000     0.013000   209.000000     0.000000  1226.000000   \n",
       "25%       0.057000     0.040000   318.000000    45.000000  1366.000000   \n",
       "50%       0.066000     0.042000   345.000000    49.000000  1389.000000   \n",
       "75%       0.075000     0.046000   380.000000    55.000000  1411.000000   \n",
       "max       0.145000     0.085000  1283.000000   198.000000  1574.000000   \n",
       "\n",
       "       CAC2_INJ_TIME  MG_INJ_TIME         DS_S  \n",
       "count    6697.000000  6697.000000  6697.000000  \n",
       "mean        9.372555     4.919068     0.007524  \n",
       "std         1.708239     1.196379     0.002783  \n",
       "min         5.000000     0.000000     0.001000  \n",
       "25%         8.000000     4.000000     0.005000  \n",
       "50%         9.000000     5.000000     0.007000  \n",
       "75%        10.000000     5.000000     0.009000  \n",
       "max        25.000000    15.000000     0.024000  "
      ]
     },
     "execution_count": 7,
     "metadata": {},
     "output_type": "execute_result"
    }
   ],
   "source": [
    "sulphur.describe()"
   ]
  },
  {
   "cell_type": "code",
   "execution_count": 8,
   "id": "a5cf368f",
   "metadata": {},
   "outputs": [],
   "source": [
    "%matplotlib inline "
   ]
  },
  {
   "cell_type": "code",
   "execution_count": 9,
   "id": "283a3414",
   "metadata": {},
   "outputs": [],
   "source": [
    "#for plotting histogram\n",
    "#import matplotlib.pyplot as plt\n",
    "#sulphur.hist(bins=50, figsize =(20, 15))"
   ]
  },
  {
   "cell_type": "code",
   "execution_count": null,
   "id": "eaada9b3",
   "metadata": {},
   "outputs": [],
   "source": []
  },
  {
   "cell_type": "markdown",
   "id": "cb5a3f94",
   "metadata": {},
   "source": [
    "# Train-test Splitting"
   ]
  },
  {
   "cell_type": "code",
   "execution_count": 10,
   "id": "658bf738",
   "metadata": {},
   "outputs": [],
   "source": [
    "#for practice purpose\n",
    "import numpy  as np\n",
    "np.random.seed(42)\n",
    "def split_train_test(data,test_ratio):\n",
    "    shuffled = np.random.permutation(len(data))\n",
    "    print(shuffled)\n",
    "    test_set_size = int(len(data)* test_ratio)\n",
    "    test_indices = shuffled[:test_set_size]\n",
    "    train_indices = shuffled[test_set_size:]\n",
    "    return data.iloc[train_indices],data.iloc[test_indices]\n",
    "    \n",
    "                "
   ]
  },
  {
   "cell_type": "code",
   "execution_count": 11,
   "id": "a86e353e",
   "metadata": {},
   "outputs": [
    {
     "name": "stdout",
     "output_type": "stream",
     "text": [
      "[1881 2627  496 ... 5226 5390  860]\n"
     ]
    }
   ],
   "source": [
    "train_set , test_set = split_train_test(sulphur ,0.2)"
   ]
  },
  {
   "cell_type": "code",
   "execution_count": 12,
   "id": "8ea6b3bd",
   "metadata": {},
   "outputs": [
    {
     "name": "stdout",
     "output_type": "stream",
     "text": [
      "Rows in train set: 5358\n",
      "Rows in test set :1339\n",
      "\n"
     ]
    }
   ],
   "source": [
    "print(f\"Rows in train set: {len(train_set)}\\nRows in test set :{len(test_set)}\\n\")"
   ]
  },
  {
   "cell_type": "code",
   "execution_count": 13,
   "id": "6d7d98d2",
   "metadata": {},
   "outputs": [],
   "source": [
    "#train_set, test_set = split_train_test(sulphur, 0.2)"
   ]
  },
  {
   "cell_type": "code",
   "execution_count": 14,
   "id": "b4306d91",
   "metadata": {},
   "outputs": [],
   "source": [
    "#test_set.info()"
   ]
  },
  {
   "cell_type": "code",
   "execution_count": 15,
   "id": "9fdf5b11",
   "metadata": {},
   "outputs": [
    {
     "name": "stdout",
     "output_type": "stream",
     "text": [
      "Rows in train set: 5357\n",
      "Rows in test set :1340\n",
      "\n"
     ]
    }
   ],
   "source": [
    "from sklearn.model_selection import train_test_split\n",
    "train_set, test_set = train_test_split(sulphur,test_size=0.2 , random_state=42)\n",
    "print(f\"Rows in train set: {len(train_set)}\\nRows in test set :{len(test_set)}\\n\")"
   ]
  },
  {
   "cell_type": "code",
   "execution_count": 16,
   "id": "63e67f16",
   "metadata": {},
   "outputs": [],
   "source": [
    "from sklearn.model_selection import StratifiedShuffleSplit\n",
    "split = StratifiedShuffleSplit(n_splits=1, test_size=0.2 , random_state=42 )\n",
    "for train_index , test_index in split.split(sulphur , sulphur['AIM_S']):\n",
    "    strat_train_set = sulphur.loc[train_index]\n",
    "    strat_test_set = sulphur.loc[test_index]"
   ]
  },
  {
   "cell_type": "code",
   "execution_count": 17,
   "id": "6c99fa09",
   "metadata": {},
   "outputs": [
    {
     "data": {
      "text/html": [
       "<div>\n",
       "<style scoped>\n",
       "    .dataframe tbody tr th:only-of-type {\n",
       "        vertical-align: middle;\n",
       "    }\n",
       "\n",
       "    .dataframe tbody tr th {\n",
       "        vertical-align: top;\n",
       "    }\n",
       "\n",
       "    .dataframe thead th {\n",
       "        text-align: right;\n",
       "    }\n",
       "</style>\n",
       "<table border=\"1\" class=\"dataframe\">\n",
       "  <thead>\n",
       "    <tr style=\"text-align: right;\">\n",
       "      <th></th>\n",
       "      <th>CASTNO</th>\n",
       "      <th>HM_WT</th>\n",
       "      <th>AIM_S</th>\n",
       "      <th>HM_S</th>\n",
       "      <th>HM_C</th>\n",
       "      <th>HM_SI</th>\n",
       "      <th>HM_TI</th>\n",
       "      <th>HM_MN</th>\n",
       "      <th>CAC2</th>\n",
       "      <th>MG</th>\n",
       "      <th>HM_TEMP</th>\n",
       "      <th>CAC2_INJ_TIME</th>\n",
       "      <th>MG_INJ_TIME</th>\n",
       "      <th>DS_S</th>\n",
       "    </tr>\n",
       "  </thead>\n",
       "  <tbody>\n",
       "    <tr>\n",
       "      <th>2646</th>\n",
       "      <td>V96389</td>\n",
       "      <td>168</td>\n",
       "      <td>0.005</td>\n",
       "      <td>0.050</td>\n",
       "      <td>4.53</td>\n",
       "      <td>0.722</td>\n",
       "      <td>0.071</td>\n",
       "      <td>0.046</td>\n",
       "      <td>398</td>\n",
       "      <td>55</td>\n",
       "      <td>1374.0</td>\n",
       "      <td>10</td>\n",
       "      <td>5</td>\n",
       "      <td>0.004</td>\n",
       "    </tr>\n",
       "    <tr>\n",
       "      <th>5143</th>\n",
       "      <td>V93030</td>\n",
       "      <td>158</td>\n",
       "      <td>0.003</td>\n",
       "      <td>0.029</td>\n",
       "      <td>4.59</td>\n",
       "      <td>0.916</td>\n",
       "      <td>0.104</td>\n",
       "      <td>0.060</td>\n",
       "      <td>320</td>\n",
       "      <td>45</td>\n",
       "      <td>1413.0</td>\n",
       "      <td>9</td>\n",
       "      <td>4</td>\n",
       "      <td>0.003</td>\n",
       "    </tr>\n",
       "    <tr>\n",
       "      <th>4074</th>\n",
       "      <td>V94411</td>\n",
       "      <td>159</td>\n",
       "      <td>0.005</td>\n",
       "      <td>0.058</td>\n",
       "      <td>4.48</td>\n",
       "      <td>0.490</td>\n",
       "      <td>0.038</td>\n",
       "      <td>0.039</td>\n",
       "      <td>430</td>\n",
       "      <td>62</td>\n",
       "      <td>NaN</td>\n",
       "      <td>12</td>\n",
       "      <td>7</td>\n",
       "      <td>0.010</td>\n",
       "    </tr>\n",
       "    <tr>\n",
       "      <th>944</th>\n",
       "      <td>V98529</td>\n",
       "      <td>173</td>\n",
       "      <td>0.005</td>\n",
       "      <td>0.045</td>\n",
       "      <td>4.54</td>\n",
       "      <td>0.430</td>\n",
       "      <td>0.055</td>\n",
       "      <td>0.037</td>\n",
       "      <td>370</td>\n",
       "      <td>56</td>\n",
       "      <td>1379.0</td>\n",
       "      <td>10</td>\n",
       "      <td>5</td>\n",
       "      <td>0.011</td>\n",
       "    </tr>\n",
       "    <tr>\n",
       "      <th>3055</th>\n",
       "      <td>V95844</td>\n",
       "      <td>174</td>\n",
       "      <td>0.005</td>\n",
       "      <td>0.034</td>\n",
       "      <td>4.55</td>\n",
       "      <td>0.552</td>\n",
       "      <td>0.063</td>\n",
       "      <td>0.048</td>\n",
       "      <td>320</td>\n",
       "      <td>56</td>\n",
       "      <td>1430.0</td>\n",
       "      <td>9</td>\n",
       "      <td>5</td>\n",
       "      <td>0.007</td>\n",
       "    </tr>\n",
       "    <tr>\n",
       "      <th>...</th>\n",
       "      <td>...</td>\n",
       "      <td>...</td>\n",
       "      <td>...</td>\n",
       "      <td>...</td>\n",
       "      <td>...</td>\n",
       "      <td>...</td>\n",
       "      <td>...</td>\n",
       "      <td>...</td>\n",
       "      <td>...</td>\n",
       "      <td>...</td>\n",
       "      <td>...</td>\n",
       "      <td>...</td>\n",
       "      <td>...</td>\n",
       "      <td>...</td>\n",
       "    </tr>\n",
       "    <tr>\n",
       "      <th>3588</th>\n",
       "      <td>V95096</td>\n",
       "      <td>171</td>\n",
       "      <td>0.005</td>\n",
       "      <td>0.038</td>\n",
       "      <td>4.61</td>\n",
       "      <td>0.530</td>\n",
       "      <td>0.055</td>\n",
       "      <td>0.042</td>\n",
       "      <td>335</td>\n",
       "      <td>47</td>\n",
       "      <td>1404.0</td>\n",
       "      <td>8</td>\n",
       "      <td>5</td>\n",
       "      <td>0.011</td>\n",
       "    </tr>\n",
       "    <tr>\n",
       "      <th>941</th>\n",
       "      <td>V98532</td>\n",
       "      <td>166</td>\n",
       "      <td>0.005</td>\n",
       "      <td>0.045</td>\n",
       "      <td>4.53</td>\n",
       "      <td>0.800</td>\n",
       "      <td>0.078</td>\n",
       "      <td>0.038</td>\n",
       "      <td>368</td>\n",
       "      <td>57</td>\n",
       "      <td>1383.0</td>\n",
       "      <td>10</td>\n",
       "      <td>5</td>\n",
       "      <td>0.006</td>\n",
       "    </tr>\n",
       "    <tr>\n",
       "      <th>3914</th>\n",
       "      <td>V94663</td>\n",
       "      <td>162</td>\n",
       "      <td>0.003</td>\n",
       "      <td>0.026</td>\n",
       "      <td>4.55</td>\n",
       "      <td>0.860</td>\n",
       "      <td>0.080</td>\n",
       "      <td>0.055</td>\n",
       "      <td>326</td>\n",
       "      <td>41</td>\n",
       "      <td>1415.0</td>\n",
       "      <td>8</td>\n",
       "      <td>4</td>\n",
       "      <td>0.006</td>\n",
       "    </tr>\n",
       "    <tr>\n",
       "      <th>3207</th>\n",
       "      <td>V95657</td>\n",
       "      <td>164</td>\n",
       "      <td>0.005</td>\n",
       "      <td>0.027</td>\n",
       "      <td>4.56</td>\n",
       "      <td>0.769</td>\n",
       "      <td>0.076</td>\n",
       "      <td>0.048</td>\n",
       "      <td>279</td>\n",
       "      <td>39</td>\n",
       "      <td>NaN</td>\n",
       "      <td>7</td>\n",
       "      <td>4</td>\n",
       "      <td>0.008</td>\n",
       "    </tr>\n",
       "    <tr>\n",
       "      <th>4601</th>\n",
       "      <td>V93725</td>\n",
       "      <td>171</td>\n",
       "      <td>0.005</td>\n",
       "      <td>0.053</td>\n",
       "      <td>4.57</td>\n",
       "      <td>0.375</td>\n",
       "      <td>0.042</td>\n",
       "      <td>0.040</td>\n",
       "      <td>418</td>\n",
       "      <td>59</td>\n",
       "      <td>1364.0</td>\n",
       "      <td>11</td>\n",
       "      <td>6</td>\n",
       "      <td>0.007</td>\n",
       "    </tr>\n",
       "  </tbody>\n",
       "</table>\n",
       "<p>1340 rows × 14 columns</p>\n",
       "</div>"
      ],
      "text/plain": [
       "      CASTNO  HM_WT  AIM_S   HM_S  HM_C  HM_SI  HM_TI  HM_MN  CAC2  MG  \\\n",
       "2646  V96389    168  0.005  0.050  4.53  0.722  0.071  0.046   398  55   \n",
       "5143  V93030    158  0.003  0.029  4.59  0.916  0.104  0.060   320  45   \n",
       "4074  V94411    159  0.005  0.058  4.48  0.490  0.038  0.039   430  62   \n",
       "944   V98529    173  0.005  0.045  4.54  0.430  0.055  0.037   370  56   \n",
       "3055  V95844    174  0.005  0.034  4.55  0.552  0.063  0.048   320  56   \n",
       "...      ...    ...    ...    ...   ...    ...    ...    ...   ...  ..   \n",
       "3588  V95096    171  0.005  0.038  4.61  0.530  0.055  0.042   335  47   \n",
       "941   V98532    166  0.005  0.045  4.53  0.800  0.078  0.038   368  57   \n",
       "3914  V94663    162  0.003  0.026  4.55  0.860  0.080  0.055   326  41   \n",
       "3207  V95657    164  0.005  0.027  4.56  0.769  0.076  0.048   279  39   \n",
       "4601  V93725    171  0.005  0.053  4.57  0.375  0.042  0.040   418  59   \n",
       "\n",
       "      HM_TEMP  CAC2_INJ_TIME  MG_INJ_TIME   DS_S  \n",
       "2646   1374.0             10            5  0.004  \n",
       "5143   1413.0              9            4  0.003  \n",
       "4074      NaN             12            7  0.010  \n",
       "944    1379.0             10            5  0.011  \n",
       "3055   1430.0              9            5  0.007  \n",
       "...       ...            ...          ...    ...  \n",
       "3588   1404.0              8            5  0.011  \n",
       "941    1383.0             10            5  0.006  \n",
       "3914   1415.0              8            4  0.006  \n",
       "3207      NaN              7            4  0.008  \n",
       "4601   1364.0             11            6  0.007  \n",
       "\n",
       "[1340 rows x 14 columns]"
      ]
     },
     "execution_count": 17,
     "metadata": {},
     "output_type": "execute_result"
    }
   ],
   "source": [
    "strat_test_set"
   ]
  },
  {
   "cell_type": "code",
   "execution_count": 18,
   "id": "8a9accbc",
   "metadata": {},
   "outputs": [
    {
     "name": "stdout",
     "output_type": "stream",
     "text": [
      "<class 'pandas.core.frame.DataFrame'>\n",
      "Int64Index: 1340 entries, 2646 to 4601\n",
      "Data columns (total 14 columns):\n",
      " #   Column         Non-Null Count  Dtype  \n",
      "---  ------         --------------  -----  \n",
      " 0   CASTNO         1340 non-null   object \n",
      " 1   HM_WT          1340 non-null   int64  \n",
      " 2   AIM_S          1340 non-null   float64\n",
      " 3   HM_S           1340 non-null   float64\n",
      " 4   HM_C           1340 non-null   float64\n",
      " 5   HM_SI          1340 non-null   float64\n",
      " 6   HM_TI          1340 non-null   float64\n",
      " 7   HM_MN          1340 non-null   float64\n",
      " 8   CAC2           1340 non-null   int64  \n",
      " 9   MG             1340 non-null   int64  \n",
      " 10  HM_TEMP        1218 non-null   float64\n",
      " 11  CAC2_INJ_TIME  1340 non-null   int64  \n",
      " 12  MG_INJ_TIME    1340 non-null   int64  \n",
      " 13  DS_S           1340 non-null   float64\n",
      "dtypes: float64(8), int64(5), object(1)\n",
      "memory usage: 157.0+ KB\n"
     ]
    }
   ],
   "source": [
    "strat_test_set.info()"
   ]
  },
  {
   "cell_type": "code",
   "execution_count": 19,
   "id": "ce1918af",
   "metadata": {},
   "outputs": [
    {
     "data": {
      "text/html": [
       "<div>\n",
       "<style scoped>\n",
       "    .dataframe tbody tr th:only-of-type {\n",
       "        vertical-align: middle;\n",
       "    }\n",
       "\n",
       "    .dataframe tbody tr th {\n",
       "        vertical-align: top;\n",
       "    }\n",
       "\n",
       "    .dataframe thead th {\n",
       "        text-align: right;\n",
       "    }\n",
       "</style>\n",
       "<table border=\"1\" class=\"dataframe\">\n",
       "  <thead>\n",
       "    <tr style=\"text-align: right;\">\n",
       "      <th></th>\n",
       "      <th>HM_WT</th>\n",
       "      <th>AIM_S</th>\n",
       "      <th>HM_S</th>\n",
       "      <th>HM_C</th>\n",
       "      <th>HM_SI</th>\n",
       "      <th>HM_TI</th>\n",
       "      <th>HM_MN</th>\n",
       "      <th>CAC2</th>\n",
       "      <th>MG</th>\n",
       "      <th>HM_TEMP</th>\n",
       "      <th>CAC2_INJ_TIME</th>\n",
       "      <th>MG_INJ_TIME</th>\n",
       "      <th>DS_S</th>\n",
       "    </tr>\n",
       "  </thead>\n",
       "  <tbody>\n",
       "    <tr>\n",
       "      <th>count</th>\n",
       "      <td>1340.000000</td>\n",
       "      <td>1340.000000</td>\n",
       "      <td>1340.000000</td>\n",
       "      <td>1340.000000</td>\n",
       "      <td>1340.000000</td>\n",
       "      <td>1340.000000</td>\n",
       "      <td>1340.000000</td>\n",
       "      <td>1340.000000</td>\n",
       "      <td>1340.000000</td>\n",
       "      <td>1218.000000</td>\n",
       "      <td>1340.000000</td>\n",
       "      <td>1340.000000</td>\n",
       "      <td>1340.000000</td>\n",
       "    </tr>\n",
       "    <tr>\n",
       "      <th>mean</th>\n",
       "      <td>165.565672</td>\n",
       "      <td>0.004966</td>\n",
       "      <td>0.039499</td>\n",
       "      <td>4.563784</td>\n",
       "      <td>0.615249</td>\n",
       "      <td>0.066666</td>\n",
       "      <td>0.042743</td>\n",
       "      <td>354.250000</td>\n",
       "      <td>50.460448</td>\n",
       "      <td>1387.082923</td>\n",
       "      <td>9.370149</td>\n",
       "      <td>4.969403</td>\n",
       "      <td>0.007519</td>\n",
       "    </tr>\n",
       "    <tr>\n",
       "      <th>std</th>\n",
       "      <td>6.463618</td>\n",
       "      <td>0.001020</td>\n",
       "      <td>0.010218</td>\n",
       "      <td>0.052735</td>\n",
       "      <td>0.169449</td>\n",
       "      <td>0.014634</td>\n",
       "      <td>0.004927</td>\n",
       "      <td>58.292823</td>\n",
       "      <td>9.194151</td>\n",
       "      <td>37.499763</td>\n",
       "      <td>1.724143</td>\n",
       "      <td>1.248074</td>\n",
       "      <td>0.002798</td>\n",
       "    </tr>\n",
       "    <tr>\n",
       "      <th>min</th>\n",
       "      <td>142.000000</td>\n",
       "      <td>0.003000</td>\n",
       "      <td>0.015000</td>\n",
       "      <td>4.250000</td>\n",
       "      <td>0.244000</td>\n",
       "      <td>0.025000</td>\n",
       "      <td>0.028000</td>\n",
       "      <td>231.000000</td>\n",
       "      <td>0.000000</td>\n",
       "      <td>1245.000000</td>\n",
       "      <td>6.000000</td>\n",
       "      <td>0.000000</td>\n",
       "      <td>0.002000</td>\n",
       "    </tr>\n",
       "    <tr>\n",
       "      <th>25%</th>\n",
       "      <td>161.000000</td>\n",
       "      <td>0.005000</td>\n",
       "      <td>0.032000</td>\n",
       "      <td>4.540000</td>\n",
       "      <td>0.496750</td>\n",
       "      <td>0.057000</td>\n",
       "      <td>0.039000</td>\n",
       "      <td>315.000000</td>\n",
       "      <td>45.000000</td>\n",
       "      <td>1365.000000</td>\n",
       "      <td>8.000000</td>\n",
       "      <td>4.000000</td>\n",
       "      <td>0.005000</td>\n",
       "    </tr>\n",
       "    <tr>\n",
       "      <th>50%</th>\n",
       "      <td>165.000000</td>\n",
       "      <td>0.005000</td>\n",
       "      <td>0.038000</td>\n",
       "      <td>4.560000</td>\n",
       "      <td>0.584500</td>\n",
       "      <td>0.066000</td>\n",
       "      <td>0.042500</td>\n",
       "      <td>346.000000</td>\n",
       "      <td>49.000000</td>\n",
       "      <td>1388.000000</td>\n",
       "      <td>9.000000</td>\n",
       "      <td>5.000000</td>\n",
       "      <td>0.007000</td>\n",
       "    </tr>\n",
       "    <tr>\n",
       "      <th>75%</th>\n",
       "      <td>170.000000</td>\n",
       "      <td>0.005000</td>\n",
       "      <td>0.045000</td>\n",
       "      <td>4.590000</td>\n",
       "      <td>0.709250</td>\n",
       "      <td>0.076000</td>\n",
       "      <td>0.046000</td>\n",
       "      <td>382.000000</td>\n",
       "      <td>55.000000</td>\n",
       "      <td>1409.000000</td>\n",
       "      <td>10.000000</td>\n",
       "      <td>6.000000</td>\n",
       "      <td>0.009000</td>\n",
       "    </tr>\n",
       "    <tr>\n",
       "      <th>max</th>\n",
       "      <td>180.000000</td>\n",
       "      <td>0.010000</td>\n",
       "      <td>0.080000</td>\n",
       "      <td>4.740000</td>\n",
       "      <td>1.440000</td>\n",
       "      <td>0.128000</td>\n",
       "      <td>0.066000</td>\n",
       "      <td>862.000000</td>\n",
       "      <td>114.000000</td>\n",
       "      <td>1570.000000</td>\n",
       "      <td>20.000000</td>\n",
       "      <td>11.000000</td>\n",
       "      <td>0.023000</td>\n",
       "    </tr>\n",
       "  </tbody>\n",
       "</table>\n",
       "</div>"
      ],
      "text/plain": [
       "             HM_WT        AIM_S         HM_S         HM_C        HM_SI  \\\n",
       "count  1340.000000  1340.000000  1340.000000  1340.000000  1340.000000   \n",
       "mean    165.565672     0.004966     0.039499     4.563784     0.615249   \n",
       "std       6.463618     0.001020     0.010218     0.052735     0.169449   \n",
       "min     142.000000     0.003000     0.015000     4.250000     0.244000   \n",
       "25%     161.000000     0.005000     0.032000     4.540000     0.496750   \n",
       "50%     165.000000     0.005000     0.038000     4.560000     0.584500   \n",
       "75%     170.000000     0.005000     0.045000     4.590000     0.709250   \n",
       "max     180.000000     0.010000     0.080000     4.740000     1.440000   \n",
       "\n",
       "             HM_TI        HM_MN         CAC2           MG      HM_TEMP  \\\n",
       "count  1340.000000  1340.000000  1340.000000  1340.000000  1218.000000   \n",
       "mean      0.066666     0.042743   354.250000    50.460448  1387.082923   \n",
       "std       0.014634     0.004927    58.292823     9.194151    37.499763   \n",
       "min       0.025000     0.028000   231.000000     0.000000  1245.000000   \n",
       "25%       0.057000     0.039000   315.000000    45.000000  1365.000000   \n",
       "50%       0.066000     0.042500   346.000000    49.000000  1388.000000   \n",
       "75%       0.076000     0.046000   382.000000    55.000000  1409.000000   \n",
       "max       0.128000     0.066000   862.000000   114.000000  1570.000000   \n",
       "\n",
       "       CAC2_INJ_TIME  MG_INJ_TIME         DS_S  \n",
       "count    1340.000000  1340.000000  1340.000000  \n",
       "mean        9.370149     4.969403     0.007519  \n",
       "std         1.724143     1.248074     0.002798  \n",
       "min         6.000000     0.000000     0.002000  \n",
       "25%         8.000000     4.000000     0.005000  \n",
       "50%         9.000000     5.000000     0.007000  \n",
       "75%        10.000000     6.000000     0.009000  \n",
       "max        20.000000    11.000000     0.023000  "
      ]
     },
     "execution_count": 19,
     "metadata": {},
     "output_type": "execute_result"
    }
   ],
   "source": [
    "strat_test_set.describe()"
   ]
  },
  {
   "cell_type": "code",
   "execution_count": 20,
   "id": "22e7b2c8",
   "metadata": {},
   "outputs": [
    {
     "data": {
      "text/plain": [
       "0.005    1121\n",
       "0.003     144\n",
       "0.008      66\n",
       "0.010       9\n",
       "Name: AIM_S, dtype: int64"
      ]
     },
     "execution_count": 20,
     "metadata": {},
     "output_type": "execute_result"
    }
   ],
   "source": [
    "strat_test_set['AIM_S'].value_counts()"
   ]
  },
  {
   "cell_type": "code",
   "execution_count": 21,
   "id": "b6c421c6",
   "metadata": {},
   "outputs": [],
   "source": [
    "#1121/144"
   ]
  },
  {
   "cell_type": "code",
   "execution_count": 22,
   "id": "9d58cc4c",
   "metadata": {},
   "outputs": [
    {
     "data": {
      "text/plain": [
       "0.005    4483\n",
       "0.003     573\n",
       "0.008     262\n",
       "0.010      37\n",
       "0.012       2\n",
       "Name: AIM_S, dtype: int64"
      ]
     },
     "execution_count": 22,
     "metadata": {},
     "output_type": "execute_result"
    }
   ],
   "source": [
    "strat_train_set['AIM_S'].value_counts()"
   ]
  },
  {
   "cell_type": "code",
   "execution_count": 23,
   "id": "548ccb6f",
   "metadata": {},
   "outputs": [],
   "source": [
    "#4483/573"
   ]
  },
  {
   "cell_type": "code",
   "execution_count": 24,
   "id": "097325eb",
   "metadata": {},
   "outputs": [],
   "source": [
    "sulphur = strat_train_set.copy()"
   ]
  },
  {
   "cell_type": "markdown",
   "id": "f55f73c7",
   "metadata": {},
   "source": [
    "# Looking for correlation"
   ]
  },
  {
   "cell_type": "code",
   "execution_count": 25,
   "id": "503d202d",
   "metadata": {},
   "outputs": [],
   "source": [
    "corr_matrix = sulphur.corr()"
   ]
  },
  {
   "cell_type": "code",
   "execution_count": 26,
   "id": "0651d986",
   "metadata": {
    "scrolled": true
   },
   "outputs": [
    {
     "data": {
      "text/plain": [
       "DS_S             1.000000\n",
       "HM_S             0.410647\n",
       "CAC2             0.227120\n",
       "MG_INJ_TIME      0.175662\n",
       "CAC2_INJ_TIME    0.173321\n",
       "AIM_S            0.150576\n",
       "MG               0.123454\n",
       "HM_WT            0.031911\n",
       "HM_TEMP          0.007677\n",
       "HM_C            -0.129763\n",
       "HM_MN           -0.227188\n",
       "HM_SI           -0.403902\n",
       "HM_TI           -0.516448\n",
       "Name: DS_S, dtype: float64"
      ]
     },
     "execution_count": 26,
     "metadata": {},
     "output_type": "execute_result"
    }
   ],
   "source": [
    "corr_matrix['DS_S'].sort_values(ascending=False)"
   ]
  },
  {
   "cell_type": "code",
   "execution_count": 27,
   "id": "54732eaa",
   "metadata": {},
   "outputs": [
    {
     "data": {
      "text/plain": [
       "AIM_S            1.000000\n",
       "DS_S             0.150576\n",
       "HM_SI            0.026899\n",
       "HM_C             0.022975\n",
       "HM_TI            0.018681\n",
       "HM_S             0.016785\n",
       "HM_WT            0.004451\n",
       "HM_MN           -0.017448\n",
       "HM_TEMP         -0.040227\n",
       "CAC2_INJ_TIME   -0.107328\n",
       "CAC2            -0.108079\n",
       "MG              -0.146858\n",
       "MG_INJ_TIME     -0.162647\n",
       "Name: AIM_S, dtype: float64"
      ]
     },
     "execution_count": 27,
     "metadata": {},
     "output_type": "execute_result"
    }
   ],
   "source": [
    "corr_matrix['AIM_S'].sort_values(ascending=False)"
   ]
  },
  {
   "cell_type": "code",
   "execution_count": 28,
   "id": "c619063a",
   "metadata": {},
   "outputs": [
    {
     "data": {
      "text/plain": [
       "HM_S             1.000000\n",
       "CAC2             0.754153\n",
       "CAC2_INJ_TIME    0.746863\n",
       "MG               0.690435\n",
       "MG_INJ_TIME      0.579528\n",
       "DS_S             0.410647\n",
       "HM_WT            0.040230\n",
       "AIM_S            0.016785\n",
       "HM_TEMP         -0.151821\n",
       "HM_C            -0.387242\n",
       "HM_SI           -0.446034\n",
       "HM_MN           -0.469423\n",
       "HM_TI           -0.622728\n",
       "Name: HM_S, dtype: float64"
      ]
     },
     "execution_count": 28,
     "metadata": {},
     "output_type": "execute_result"
    }
   ],
   "source": [
    "corr_matrix['HM_S'].sort_values(ascending=False)"
   ]
  },
  {
   "cell_type": "code",
   "execution_count": 29,
   "id": "a3ba9cda",
   "metadata": {},
   "outputs": [
    {
     "data": {
      "text/plain": [
       "array([[<AxesSubplot:xlabel='DS_S', ylabel='DS_S'>,\n",
       "        <AxesSubplot:xlabel='HM_S', ylabel='DS_S'>,\n",
       "        <AxesSubplot:xlabel='AIM_S', ylabel='DS_S'>],\n",
       "       [<AxesSubplot:xlabel='DS_S', ylabel='HM_S'>,\n",
       "        <AxesSubplot:xlabel='HM_S', ylabel='HM_S'>,\n",
       "        <AxesSubplot:xlabel='AIM_S', ylabel='HM_S'>],\n",
       "       [<AxesSubplot:xlabel='DS_S', ylabel='AIM_S'>,\n",
       "        <AxesSubplot:xlabel='HM_S', ylabel='AIM_S'>,\n",
       "        <AxesSubplot:xlabel='AIM_S', ylabel='AIM_S'>]], dtype=object)"
      ]
     },
     "execution_count": 29,
     "metadata": {},
     "output_type": "execute_result"
    },
    {
     "data": {
      "image/png": "[encoded data removed]",
      "text/plain": [
       "<Figure size 864x576 with 9 Axes>"
      ]
     },
     "metadata": {
      "needs_background": "light"
     },
     "output_type": "display_data"
    }
   ],
   "source": [
    "from pandas.plotting import scatter_matrix\n",
    "attributes = [\"DS_S\",\"HM_S\",\"AIM_S\"]\n",
    "scatter_matrix(sulphur[attributes],figsize=(12,8))"
   ]
  },
  {
   "cell_type": "code",
   "execution_count": 30,
   "id": "01c3d459",
   "metadata": {},
   "outputs": [
    {
     "data": {
      "text/plain": [
       "<AxesSubplot:xlabel='AIM_S', ylabel='DS_S'>"
      ]
     },
     "execution_count": 30,
     "metadata": {},
     "output_type": "execute_result"
    },
    {
     "data": {
      "image/png": "[encoded data removed]",
      "text/plain": [
       "<Figure size 432x288 with 1 Axes>"
      ]
     },
     "metadata": {
      "needs_background": "light"
     },
     "output_type": "display_data"
    }
   ],
   "source": [
    "sulphur.plot(kind=\"scatter\", x = \"AIM_S\" , y = \"DS_S\",alpha = 0.8)"
   ]
  },
  {
   "cell_type": "markdown",
   "id": "3786a766",
   "metadata": {},
   "source": [
    "# combining attribute only for learning"
   ]
  },
  {
   "cell_type": "code",
   "execution_count": 31,
   "id": "df454905",
   "metadata": {},
   "outputs": [],
   "source": [
    "#sulphur[\"AIM_SDS_S\"]=sulphur['AIM_S']+sulphur['DS_S']"
   ]
  },
  {
   "cell_type": "code",
   "execution_count": 32,
   "id": "f3435edc",
   "metadata": {},
   "outputs": [],
   "source": [
    "#sulphur[\"AIM_SDS_S\"]"
   ]
  },
  {
   "cell_type": "code",
   "execution_count": 33,
   "id": "308a6c1b",
   "metadata": {},
   "outputs": [],
   "source": [
    "#sulphur.head()"
   ]
  },
  {
   "cell_type": "markdown",
   "id": "47765d5c",
   "metadata": {},
   "source": [
    "# correlations"
   ]
  },
  {
   "cell_type": "code",
   "execution_count": 34,
   "id": "eb81e5b8",
   "metadata": {},
   "outputs": [
    {
     "data": {
      "text/plain": [
       "AIM_S            1.000000\n",
       "DS_S             0.150576\n",
       "HM_SI            0.026899\n",
       "HM_C             0.022975\n",
       "HM_TI            0.018681\n",
       "HM_S             0.016785\n",
       "HM_WT            0.004451\n",
       "HM_MN           -0.017448\n",
       "HM_TEMP         -0.040227\n",
       "CAC2_INJ_TIME   -0.107328\n",
       "CAC2            -0.108079\n",
       "MG              -0.146858\n",
       "MG_INJ_TIME     -0.162647\n",
       "Name: AIM_S, dtype: float64"
      ]
     },
     "execution_count": 34,
     "metadata": {},
     "output_type": "execute_result"
    }
   ],
   "source": [
    "corr_matrix = sulphur.corr()\n",
    "corr_matrix['AIM_S'].sort_values(ascending=False)"
   ]
  },
  {
   "cell_type": "code",
   "execution_count": 35,
   "id": "36737eec",
   "metadata": {},
   "outputs": [],
   "source": [
    "#sulphur.plot(kind=\"scatter\", x = \"AIM_SDS_S\" , y = \"DS_S\",alpha = 0.8)"
   ]
  },
  {
   "cell_type": "code",
   "execution_count": 36,
   "id": "4fc13091",
   "metadata": {},
   "outputs": [
    {
     "data": {
      "text/html": [
       "<div>\n",
       "<style scoped>\n",
       "    .dataframe tbody tr th:only-of-type {\n",
       "        vertical-align: middle;\n",
       "    }\n",
       "\n",
       "    .dataframe tbody tr th {\n",
       "        vertical-align: top;\n",
       "    }\n",
       "\n",
       "    .dataframe thead th {\n",
       "        text-align: right;\n",
       "    }\n",
       "</style>\n",
       "<table border=\"1\" class=\"dataframe\">\n",
       "  <thead>\n",
       "    <tr style=\"text-align: right;\">\n",
       "      <th></th>\n",
       "      <th>CASTNO</th>\n",
       "      <th>HM_WT</th>\n",
       "      <th>AIM_S</th>\n",
       "      <th>HM_S</th>\n",
       "      <th>HM_C</th>\n",
       "      <th>HM_SI</th>\n",
       "      <th>HM_TI</th>\n",
       "      <th>HM_MN</th>\n",
       "      <th>CAC2</th>\n",
       "      <th>MG</th>\n",
       "      <th>HM_TEMP</th>\n",
       "      <th>CAC2_INJ_TIME</th>\n",
       "      <th>MG_INJ_TIME</th>\n",
       "      <th>DS_S</th>\n",
       "    </tr>\n",
       "  </thead>\n",
       "  <tbody>\n",
       "    <tr>\n",
       "      <th>6578</th>\n",
       "      <td>V91093</td>\n",
       "      <td>173</td>\n",
       "      <td>0.005</td>\n",
       "      <td>0.038</td>\n",
       "      <td>4.61</td>\n",
       "      <td>0.437</td>\n",
       "      <td>0.058</td>\n",
       "      <td>0.052</td>\n",
       "      <td>334</td>\n",
       "      <td>51</td>\n",
       "      <td>1332.0</td>\n",
       "      <td>9</td>\n",
       "      <td>6</td>\n",
       "      <td>0.008</td>\n",
       "    </tr>\n",
       "    <tr>\n",
       "      <th>5758</th>\n",
       "      <td>V92278</td>\n",
       "      <td>156</td>\n",
       "      <td>0.005</td>\n",
       "      <td>0.026</td>\n",
       "      <td>4.60</td>\n",
       "      <td>0.640</td>\n",
       "      <td>0.077</td>\n",
       "      <td>0.046</td>\n",
       "      <td>284</td>\n",
       "      <td>38</td>\n",
       "      <td>1397.0</td>\n",
       "      <td>7</td>\n",
       "      <td>4</td>\n",
       "      <td>0.007</td>\n",
       "    </tr>\n",
       "    <tr>\n",
       "      <th>2549</th>\n",
       "      <td>V96507</td>\n",
       "      <td>154</td>\n",
       "      <td>0.003</td>\n",
       "      <td>0.024</td>\n",
       "      <td>4.56</td>\n",
       "      <td>0.817</td>\n",
       "      <td>0.083</td>\n",
       "      <td>0.047</td>\n",
       "      <td>301</td>\n",
       "      <td>47</td>\n",
       "      <td>1365.0</td>\n",
       "      <td>8</td>\n",
       "      <td>5</td>\n",
       "      <td>0.005</td>\n",
       "    </tr>\n",
       "    <tr>\n",
       "      <th>5230</th>\n",
       "      <td>V92927</td>\n",
       "      <td>166</td>\n",
       "      <td>0.005</td>\n",
       "      <td>0.027</td>\n",
       "      <td>4.63</td>\n",
       "      <td>0.829</td>\n",
       "      <td>0.091</td>\n",
       "      <td>0.045</td>\n",
       "      <td>293</td>\n",
       "      <td>43</td>\n",
       "      <td>1386.0</td>\n",
       "      <td>8</td>\n",
       "      <td>5</td>\n",
       "      <td>0.006</td>\n",
       "    </tr>\n",
       "    <tr>\n",
       "      <th>2147</th>\n",
       "      <td>V97019</td>\n",
       "      <td>175</td>\n",
       "      <td>0.005</td>\n",
       "      <td>0.038</td>\n",
       "      <td>4.58</td>\n",
       "      <td>0.581</td>\n",
       "      <td>0.074</td>\n",
       "      <td>0.041</td>\n",
       "      <td>341</td>\n",
       "      <td>49</td>\n",
       "      <td>1393.0</td>\n",
       "      <td>9</td>\n",
       "      <td>4</td>\n",
       "      <td>0.006</td>\n",
       "    </tr>\n",
       "  </tbody>\n",
       "</table>\n",
       "</div>"
      ],
      "text/plain": [
       "      CASTNO  HM_WT  AIM_S   HM_S  HM_C  HM_SI  HM_TI  HM_MN  CAC2  MG  \\\n",
       "6578  V91093    173  0.005  0.038  4.61  0.437  0.058  0.052   334  51   \n",
       "5758  V92278    156  0.005  0.026  4.60  0.640  0.077  0.046   284  38   \n",
       "2549  V96507    154  0.003  0.024  4.56  0.817  0.083  0.047   301  47   \n",
       "5230  V92927    166  0.005  0.027  4.63  0.829  0.091  0.045   293  43   \n",
       "2147  V97019    175  0.005  0.038  4.58  0.581  0.074  0.041   341  49   \n",
       "\n",
       "      HM_TEMP  CAC2_INJ_TIME  MG_INJ_TIME   DS_S  \n",
       "6578   1332.0              9            6  0.008  \n",
       "5758   1397.0              7            4  0.007  \n",
       "2549   1365.0              8            5  0.005  \n",
       "5230   1386.0              8            5  0.006  \n",
       "2147   1393.0              9            4  0.006  "
      ]
     },
     "execution_count": 36,
     "metadata": {},
     "output_type": "execute_result"
    }
   ],
   "source": [
    "sulphur.head()"
   ]
  },
  {
   "cell_type": "code",
   "execution_count": 37,
   "id": "524a3e78",
   "metadata": {},
   "outputs": [
    {
     "data": {
      "text/html": [
       "<div>\n",
       "<style scoped>\n",
       "    .dataframe tbody tr th:only-of-type {\n",
       "        vertical-align: middle;\n",
       "    }\n",
       "\n",
       "    .dataframe tbody tr th {\n",
       "        vertical-align: top;\n",
       "    }\n",
       "\n",
       "    .dataframe thead th {\n",
       "        text-align: right;\n",
       "    }\n",
       "</style>\n",
       "<table border=\"1\" class=\"dataframe\">\n",
       "  <thead>\n",
       "    <tr style=\"text-align: right;\">\n",
       "      <th></th>\n",
       "      <th>HM_WT</th>\n",
       "      <th>AIM_S</th>\n",
       "      <th>HM_S</th>\n",
       "      <th>HM_C</th>\n",
       "      <th>HM_SI</th>\n",
       "      <th>HM_TI</th>\n",
       "      <th>HM_MN</th>\n",
       "      <th>CAC2</th>\n",
       "      <th>MG</th>\n",
       "      <th>HM_TEMP</th>\n",
       "      <th>CAC2_INJ_TIME</th>\n",
       "      <th>MG_INJ_TIME</th>\n",
       "    </tr>\n",
       "  </thead>\n",
       "  <tbody>\n",
       "    <tr>\n",
       "      <th>count</th>\n",
       "      <td>5357.000000</td>\n",
       "      <td>5357.000000</td>\n",
       "      <td>5357.000000</td>\n",
       "      <td>5357.000000</td>\n",
       "      <td>5357.000000</td>\n",
       "      <td>5357.000000</td>\n",
       "      <td>5357.000000</td>\n",
       "      <td>5357.000000</td>\n",
       "      <td>5357.000000</td>\n",
       "      <td>4876.000000</td>\n",
       "      <td>5357.000000</td>\n",
       "      <td>5357.000000</td>\n",
       "    </tr>\n",
       "    <tr>\n",
       "      <th>mean</th>\n",
       "      <td>165.372597</td>\n",
       "      <td>0.004970</td>\n",
       "      <td>0.039591</td>\n",
       "      <td>4.562378</td>\n",
       "      <td>0.611921</td>\n",
       "      <td>0.066539</td>\n",
       "      <td>0.042732</td>\n",
       "      <td>354.591002</td>\n",
       "      <td>50.373157</td>\n",
       "      <td>1388.666120</td>\n",
       "      <td>9.373157</td>\n",
       "      <td>4.906478</td>\n",
       "    </tr>\n",
       "    <tr>\n",
       "      <th>std</th>\n",
       "      <td>6.278338</td>\n",
       "      <td>0.001029</td>\n",
       "      <td>0.009786</td>\n",
       "      <td>0.053763</td>\n",
       "      <td>0.165204</td>\n",
       "      <td>0.014726</td>\n",
       "      <td>0.004765</td>\n",
       "      <td>60.066805</td>\n",
       "      <td>9.257529</td>\n",
       "      <td>37.677526</td>\n",
       "      <td>1.704399</td>\n",
       "      <td>1.182880</td>\n",
       "    </tr>\n",
       "    <tr>\n",
       "      <th>min</th>\n",
       "      <td>140.000000</td>\n",
       "      <td>0.003000</td>\n",
       "      <td>0.011000</td>\n",
       "      <td>4.120000</td>\n",
       "      <td>0.186000</td>\n",
       "      <td>0.020000</td>\n",
       "      <td>0.013000</td>\n",
       "      <td>209.000000</td>\n",
       "      <td>0.000000</td>\n",
       "      <td>1226.000000</td>\n",
       "      <td>5.000000</td>\n",
       "      <td>0.000000</td>\n",
       "    </tr>\n",
       "    <tr>\n",
       "      <th>25%</th>\n",
       "      <td>161.000000</td>\n",
       "      <td>0.005000</td>\n",
       "      <td>0.033000</td>\n",
       "      <td>4.540000</td>\n",
       "      <td>0.495000</td>\n",
       "      <td>0.057000</td>\n",
       "      <td>0.040000</td>\n",
       "      <td>319.000000</td>\n",
       "      <td>45.000000</td>\n",
       "      <td>1366.000000</td>\n",
       "      <td>8.000000</td>\n",
       "      <td>4.000000</td>\n",
       "    </tr>\n",
       "    <tr>\n",
       "      <th>50%</th>\n",
       "      <td>165.000000</td>\n",
       "      <td>0.005000</td>\n",
       "      <td>0.038000</td>\n",
       "      <td>4.560000</td>\n",
       "      <td>0.587000</td>\n",
       "      <td>0.066000</td>\n",
       "      <td>0.042000</td>\n",
       "      <td>345.000000</td>\n",
       "      <td>49.000000</td>\n",
       "      <td>1389.000000</td>\n",
       "      <td>9.000000</td>\n",
       "      <td>5.000000</td>\n",
       "    </tr>\n",
       "    <tr>\n",
       "      <th>75%</th>\n",
       "      <td>170.000000</td>\n",
       "      <td>0.005000</td>\n",
       "      <td>0.045000</td>\n",
       "      <td>4.590000</td>\n",
       "      <td>0.705000</td>\n",
       "      <td>0.075000</td>\n",
       "      <td>0.046000</td>\n",
       "      <td>380.000000</td>\n",
       "      <td>55.000000</td>\n",
       "      <td>1411.000000</td>\n",
       "      <td>10.000000</td>\n",
       "      <td>5.000000</td>\n",
       "    </tr>\n",
       "    <tr>\n",
       "      <th>max</th>\n",
       "      <td>180.000000</td>\n",
       "      <td>0.012000</td>\n",
       "      <td>0.095000</td>\n",
       "      <td>4.770000</td>\n",
       "      <td>1.644000</td>\n",
       "      <td>0.145000</td>\n",
       "      <td>0.085000</td>\n",
       "      <td>1283.000000</td>\n",
       "      <td>198.000000</td>\n",
       "      <td>1574.000000</td>\n",
       "      <td>25.000000</td>\n",
       "      <td>15.000000</td>\n",
       "    </tr>\n",
       "  </tbody>\n",
       "</table>\n",
       "</div>"
      ],
      "text/plain": [
       "             HM_WT        AIM_S         HM_S         HM_C        HM_SI  \\\n",
       "count  5357.000000  5357.000000  5357.000000  5357.000000  5357.000000   \n",
       "mean    165.372597     0.004970     0.039591     4.562378     0.611921   \n",
       "std       6.278338     0.001029     0.009786     0.053763     0.165204   \n",
       "min     140.000000     0.003000     0.011000     4.120000     0.186000   \n",
       "25%     161.000000     0.005000     0.033000     4.540000     0.495000   \n",
       "50%     165.000000     0.005000     0.038000     4.560000     0.587000   \n",
       "75%     170.000000     0.005000     0.045000     4.590000     0.705000   \n",
       "max     180.000000     0.012000     0.095000     4.770000     1.644000   \n",
       "\n",
       "             HM_TI        HM_MN         CAC2           MG      HM_TEMP  \\\n",
       "count  5357.000000  5357.000000  5357.000000  5357.000000  4876.000000   \n",
       "mean      0.066539     0.042732   354.591002    50.373157  1388.666120   \n",
       "std       0.014726     0.004765    60.066805     9.257529    37.677526   \n",
       "min       0.020000     0.013000   209.000000     0.000000  1226.000000   \n",
       "25%       0.057000     0.040000   319.000000    45.000000  1366.000000   \n",
       "50%       0.066000     0.042000   345.000000    49.000000  1389.000000   \n",
       "75%       0.075000     0.046000   380.000000    55.000000  1411.000000   \n",
       "max       0.145000     0.085000  1283.000000   198.000000  1574.000000   \n",
       "\n",
       "       CAC2_INJ_TIME  MG_INJ_TIME  \n",
       "count    5357.000000  5357.000000  \n",
       "mean        9.373157     4.906478  \n",
       "std         1.704399     1.182880  \n",
       "min         5.000000     0.000000  \n",
       "25%         8.000000     4.000000  \n",
       "50%         9.000000     5.000000  \n",
       "75%        10.000000     5.000000  \n",
       "max        25.000000    15.000000  "
      ]
     },
     "execution_count": 37,
     "metadata": {},
     "output_type": "execute_result"
    }
   ],
   "source": [
    "sulphur = strat_train_set.drop(\"DS_S\",axis=1)\n",
    "sulphur_labels = strat_train_set[\"DS_S\"].copy()\n",
    "sulphur.describe()"
   ]
  },
  {
   "cell_type": "markdown",
   "id": "7bfc3fcb",
   "metadata": {},
   "source": [
    "# missing attribute"
   ]
  },
  {
   "cell_type": "markdown",
   "id": "fcc81e7a",
   "metadata": {},
   "source": [
    "1. get rid of whole attribute\n",
    "2. get rid of missing data points\n",
    "3. get thevalue  value to 0  mean or median"
   ]
  },
  {
   "cell_type": "code",
   "execution_count": 38,
   "id": "7bc451f0",
   "metadata": {},
   "outputs": [
    {
     "data": {
      "text/plain": [
       "(4876, 13)"
      ]
     },
     "execution_count": 38,
     "metadata": {},
     "output_type": "execute_result"
    }
   ],
   "source": [
    "a=sulphur.dropna(subset=[\"HM_TEMP\"])#option 1\n",
    "a.shape\n",
    "#orignal data frame will remain unchange"
   ]
  },
  {
   "cell_type": "code",
   "execution_count": 39,
   "id": "e267869e",
   "metadata": {},
   "outputs": [
    {
     "data": {
      "text/plain": [
       "(5357, 13)"
      ]
     },
     "execution_count": 39,
     "metadata": {},
     "output_type": "execute_result"
    }
   ],
   "source": [
    "sulphur.drop(\"HM_TEMP\",axis =1)# option 2\n",
    "sulphur.shape\n",
    "#orignal data frame will remain unchange"
   ]
  },
  {
   "cell_type": "code",
   "execution_count": 40,
   "id": "7a96352b",
   "metadata": {},
   "outputs": [],
   "source": [
    "median = sulphur[\"HM_TEMP\"].median()"
   ]
  },
  {
   "cell_type": "code",
   "execution_count": 41,
   "id": "b5777942",
   "metadata": {},
   "outputs": [
    {
     "data": {
      "text/plain": [
       "6578    1332.0\n",
       "5758    1397.0\n",
       "2549    1365.0\n",
       "5230    1386.0\n",
       "2147    1393.0\n",
       "         ...  \n",
       "264     1376.0\n",
       "455     1367.0\n",
       "318     1422.0\n",
       "5550    1356.0\n",
       "5479    1373.0\n",
       "Name: HM_TEMP, Length: 5357, dtype: float64"
      ]
     },
     "execution_count": 41,
     "metadata": {},
     "output_type": "execute_result"
    }
   ],
   "source": [
    "sulphur[\"HM_TEMP\"]"
   ]
  },
  {
   "cell_type": "code",
   "execution_count": 42,
   "id": "e5436700",
   "metadata": {},
   "outputs": [
    {
     "data": {
      "text/plain": [
       "(5357, 13)"
      ]
     },
     "execution_count": 42,
     "metadata": {},
     "output_type": "execute_result"
    }
   ],
   "source": [
    "sulphur.shape"
   ]
  },
  {
   "cell_type": "code",
   "execution_count": 43,
   "id": "3ff5ab40",
   "metadata": {},
   "outputs": [
    {
     "data": {
      "text/html": [
       "<div>\n",
       "<style scoped>\n",
       "    .dataframe tbody tr th:only-of-type {\n",
       "        vertical-align: middle;\n",
       "    }\n",
       "\n",
       "    .dataframe tbody tr th {\n",
       "        vertical-align: top;\n",
       "    }\n",
       "\n",
       "    .dataframe thead th {\n",
       "        text-align: right;\n",
       "    }\n",
       "</style>\n",
       "<table border=\"1\" class=\"dataframe\">\n",
       "  <thead>\n",
       "    <tr style=\"text-align: right;\">\n",
       "      <th></th>\n",
       "      <th>HM_WT</th>\n",
       "      <th>AIM_S</th>\n",
       "      <th>HM_S</th>\n",
       "      <th>HM_C</th>\n",
       "      <th>HM_SI</th>\n",
       "      <th>HM_TI</th>\n",
       "      <th>HM_MN</th>\n",
       "      <th>CAC2</th>\n",
       "      <th>MG</th>\n",
       "      <th>HM_TEMP</th>\n",
       "      <th>CAC2_INJ_TIME</th>\n",
       "      <th>MG_INJ_TIME</th>\n",
       "    </tr>\n",
       "  </thead>\n",
       "  <tbody>\n",
       "    <tr>\n",
       "      <th>count</th>\n",
       "      <td>5357.000000</td>\n",
       "      <td>5357.000000</td>\n",
       "      <td>5357.000000</td>\n",
       "      <td>5357.000000</td>\n",
       "      <td>5357.000000</td>\n",
       "      <td>5357.000000</td>\n",
       "      <td>5357.000000</td>\n",
       "      <td>5357.000000</td>\n",
       "      <td>5357.000000</td>\n",
       "      <td>4876.000000</td>\n",
       "      <td>5357.000000</td>\n",
       "      <td>5357.000000</td>\n",
       "    </tr>\n",
       "    <tr>\n",
       "      <th>mean</th>\n",
       "      <td>165.372597</td>\n",
       "      <td>0.004970</td>\n",
       "      <td>0.039591</td>\n",
       "      <td>4.562378</td>\n",
       "      <td>0.611921</td>\n",
       "      <td>0.066539</td>\n",
       "      <td>0.042732</td>\n",
       "      <td>354.591002</td>\n",
       "      <td>50.373157</td>\n",
       "      <td>1388.666120</td>\n",
       "      <td>9.373157</td>\n",
       "      <td>4.906478</td>\n",
       "    </tr>\n",
       "    <tr>\n",
       "      <th>std</th>\n",
       "      <td>6.278338</td>\n",
       "      <td>0.001029</td>\n",
       "      <td>0.009786</td>\n",
       "      <td>0.053763</td>\n",
       "      <td>0.165204</td>\n",
       "      <td>0.014726</td>\n",
       "      <td>0.004765</td>\n",
       "      <td>60.066805</td>\n",
       "      <td>9.257529</td>\n",
       "      <td>37.677526</td>\n",
       "      <td>1.704399</td>\n",
       "      <td>1.182880</td>\n",
       "    </tr>\n",
       "    <tr>\n",
       "      <th>min</th>\n",
       "      <td>140.000000</td>\n",
       "      <td>0.003000</td>\n",
       "      <td>0.011000</td>\n",
       "      <td>4.120000</td>\n",
       "      <td>0.186000</td>\n",
       "      <td>0.020000</td>\n",
       "      <td>0.013000</td>\n",
       "      <td>209.000000</td>\n",
       "      <td>0.000000</td>\n",
       "      <td>1226.000000</td>\n",
       "      <td>5.000000</td>\n",
       "      <td>0.000000</td>\n",
       "    </tr>\n",
       "    <tr>\n",
       "      <th>25%</th>\n",
       "      <td>161.000000</td>\n",
       "      <td>0.005000</td>\n",
       "      <td>0.033000</td>\n",
       "      <td>4.540000</td>\n",
       "      <td>0.495000</td>\n",
       "      <td>0.057000</td>\n",
       "      <td>0.040000</td>\n",
       "      <td>319.000000</td>\n",
       "      <td>45.000000</td>\n",
       "      <td>1366.000000</td>\n",
       "      <td>8.000000</td>\n",
       "      <td>4.000000</td>\n",
       "    </tr>\n",
       "    <tr>\n",
       "      <th>50%</th>\n",
       "      <td>165.000000</td>\n",
       "      <td>0.005000</td>\n",
       "      <td>0.038000</td>\n",
       "      <td>4.560000</td>\n",
       "      <td>0.587000</td>\n",
       "      <td>0.066000</td>\n",
       "      <td>0.042000</td>\n",
       "      <td>345.000000</td>\n",
       "      <td>49.000000</td>\n",
       "      <td>1389.000000</td>\n",
       "      <td>9.000000</td>\n",
       "      <td>5.000000</td>\n",
       "    </tr>\n",
       "    <tr>\n",
       "      <th>75%</th>\n",
       "      <td>170.000000</td>\n",
       "      <td>0.005000</td>\n",
       "      <td>0.045000</td>\n",
       "      <td>4.590000</td>\n",
       "      <td>0.705000</td>\n",
       "      <td>0.075000</td>\n",
       "      <td>0.046000</td>\n",
       "      <td>380.000000</td>\n",
       "      <td>55.000000</td>\n",
       "      <td>1411.000000</td>\n",
       "      <td>10.000000</td>\n",
       "      <td>5.000000</td>\n",
       "    </tr>\n",
       "    <tr>\n",
       "      <th>max</th>\n",
       "      <td>180.000000</td>\n",
       "      <td>0.012000</td>\n",
       "      <td>0.095000</td>\n",
       "      <td>4.770000</td>\n",
       "      <td>1.644000</td>\n",
       "      <td>0.145000</td>\n",
       "      <td>0.085000</td>\n",
       "      <td>1283.000000</td>\n",
       "      <td>198.000000</td>\n",
       "      <td>1574.000000</td>\n",
       "      <td>25.000000</td>\n",
       "      <td>15.000000</td>\n",
       "    </tr>\n",
       "  </tbody>\n",
       "</table>\n",
       "</div>"
      ],
      "text/plain": [
       "             HM_WT        AIM_S         HM_S         HM_C        HM_SI  \\\n",
       "count  5357.000000  5357.000000  5357.000000  5357.000000  5357.000000   \n",
       "mean    165.372597     0.004970     0.039591     4.562378     0.611921   \n",
       "std       6.278338     0.001029     0.009786     0.053763     0.165204   \n",
       "min     140.000000     0.003000     0.011000     4.120000     0.186000   \n",
       "25%     161.000000     0.005000     0.033000     4.540000     0.495000   \n",
       "50%     165.000000     0.005000     0.038000     4.560000     0.587000   \n",
       "75%     170.000000     0.005000     0.045000     4.590000     0.705000   \n",
       "max     180.000000     0.012000     0.095000     4.770000     1.644000   \n",
       "\n",
       "             HM_TI        HM_MN         CAC2           MG      HM_TEMP  \\\n",
       "count  5357.000000  5357.000000  5357.000000  5357.000000  4876.000000   \n",
       "mean      0.066539     0.042732   354.591002    50.373157  1388.666120   \n",
       "std       0.014726     0.004765    60.066805     9.257529    37.677526   \n",
       "min       0.020000     0.013000   209.000000     0.000000  1226.000000   \n",
       "25%       0.057000     0.040000   319.000000    45.000000  1366.000000   \n",
       "50%       0.066000     0.042000   345.000000    49.000000  1389.000000   \n",
       "75%       0.075000     0.046000   380.000000    55.000000  1411.000000   \n",
       "max       0.145000     0.085000  1283.000000   198.000000  1574.000000   \n",
       "\n",
       "       CAC2_INJ_TIME  MG_INJ_TIME  \n",
       "count    5357.000000  5357.000000  \n",
       "mean        9.373157     4.906478  \n",
       "std         1.704399     1.182880  \n",
       "min         5.000000     0.000000  \n",
       "25%         8.000000     4.000000  \n",
       "50%         9.000000     5.000000  \n",
       "75%        10.000000     5.000000  \n",
       "max        25.000000    15.000000  "
      ]
     },
     "execution_count": 43,
     "metadata": {},
     "output_type": "execute_result"
    }
   ],
   "source": [
    "sulphur.describe() #before we started filling missing aattribute"
   ]
  },
  {
   "cell_type": "code",
   "execution_count": 44,
   "id": "1efdcf06",
   "metadata": {},
   "outputs": [
    {
     "data": {
      "text/plain": [
       "SimpleImputer(strategy='median')"
      ]
     },
     "execution_count": 44,
     "metadata": {},
     "output_type": "execute_result"
    }
   ],
   "source": [
    "sulphur=sulphur.drop('CASTNO',axis=1)\n",
    "from sklearn.impute import SimpleImputer\n",
    "\n",
    "imputer = SimpleImputer(strategy = \"median\")\n",
    "imputer.fit(sulphur)"
   ]
  },
  {
   "cell_type": "code",
   "execution_count": 45,
   "id": "a9ad869a",
   "metadata": {},
   "outputs": [
    {
     "data": {
      "text/plain": [
       "array([1.650e+02, 5.000e-03, 3.800e-02, 4.560e+00, 5.870e-01, 6.600e-02,\n",
       "       4.200e-02, 3.450e+02, 4.900e+01, 1.389e+03, 9.000e+00, 5.000e+00])"
      ]
     },
     "execution_count": 45,
     "metadata": {},
     "output_type": "execute_result"
    }
   ],
   "source": [
    "imputer.statistics_"
   ]
  },
  {
   "cell_type": "code",
   "execution_count": 46,
   "id": "ab7fde79",
   "metadata": {},
   "outputs": [
    {
     "data": {
      "text/plain": [
       "(12,)"
      ]
     },
     "execution_count": 46,
     "metadata": {},
     "output_type": "execute_result"
    }
   ],
   "source": [
    "imputer.statistics_.shape"
   ]
  },
  {
   "cell_type": "code",
   "execution_count": 47,
   "id": "aaf2407c",
   "metadata": {},
   "outputs": [],
   "source": [
    "X = imputer.transform(sulphur)"
   ]
  },
  {
   "cell_type": "code",
   "execution_count": 48,
   "id": "bce2acab",
   "metadata": {},
   "outputs": [],
   "source": [
    "sulphur_tr = pd.DataFrame(X, columns=sulphur.columns)"
   ]
  },
  {
   "cell_type": "code",
   "execution_count": 49,
   "id": "e5116d8a",
   "metadata": {},
   "outputs": [
    {
     "data": {
      "text/html": [
       "<div>\n",
       "<style scoped>\n",
       "    .dataframe tbody tr th:only-of-type {\n",
       "        vertical-align: middle;\n",
       "    }\n",
       "\n",
       "    .dataframe tbody tr th {\n",
       "        vertical-align: top;\n",
       "    }\n",
       "\n",
       "    .dataframe thead th {\n",
       "        text-align: right;\n",
       "    }\n",
       "</style>\n",
       "<table border=\"1\" class=\"dataframe\">\n",
       "  <thead>\n",
       "    <tr style=\"text-align: right;\">\n",
       "      <th></th>\n",
       "      <th>HM_WT</th>\n",
       "      <th>AIM_S</th>\n",
       "      <th>HM_S</th>\n",
       "      <th>HM_C</th>\n",
       "      <th>HM_SI</th>\n",
       "      <th>HM_TI</th>\n",
       "      <th>HM_MN</th>\n",
       "      <th>CAC2</th>\n",
       "      <th>MG</th>\n",
       "      <th>HM_TEMP</th>\n",
       "      <th>CAC2_INJ_TIME</th>\n",
       "      <th>MG_INJ_TIME</th>\n",
       "    </tr>\n",
       "  </thead>\n",
       "  <tbody>\n",
       "    <tr>\n",
       "      <th>count</th>\n",
       "      <td>5357.000000</td>\n",
       "      <td>5357.000000</td>\n",
       "      <td>5357.000000</td>\n",
       "      <td>5357.000000</td>\n",
       "      <td>5357.000000</td>\n",
       "      <td>5357.000000</td>\n",
       "      <td>5357.000000</td>\n",
       "      <td>5357.000000</td>\n",
       "      <td>5357.000000</td>\n",
       "      <td>5357.000000</td>\n",
       "      <td>5357.000000</td>\n",
       "      <td>5357.000000</td>\n",
       "    </tr>\n",
       "    <tr>\n",
       "      <th>mean</th>\n",
       "      <td>165.372597</td>\n",
       "      <td>0.004970</td>\n",
       "      <td>0.039591</td>\n",
       "      <td>4.562378</td>\n",
       "      <td>0.611921</td>\n",
       "      <td>0.066539</td>\n",
       "      <td>0.042732</td>\n",
       "      <td>354.591002</td>\n",
       "      <td>50.373157</td>\n",
       "      <td>1388.696099</td>\n",
       "      <td>9.373157</td>\n",
       "      <td>4.906478</td>\n",
       "    </tr>\n",
       "    <tr>\n",
       "      <th>std</th>\n",
       "      <td>6.278338</td>\n",
       "      <td>0.001029</td>\n",
       "      <td>0.009786</td>\n",
       "      <td>0.053763</td>\n",
       "      <td>0.165204</td>\n",
       "      <td>0.014726</td>\n",
       "      <td>0.004765</td>\n",
       "      <td>60.066805</td>\n",
       "      <td>9.257529</td>\n",
       "      <td>35.946031</td>\n",
       "      <td>1.704399</td>\n",
       "      <td>1.182880</td>\n",
       "    </tr>\n",
       "    <tr>\n",
       "      <th>min</th>\n",
       "      <td>140.000000</td>\n",
       "      <td>0.003000</td>\n",
       "      <td>0.011000</td>\n",
       "      <td>4.120000</td>\n",
       "      <td>0.186000</td>\n",
       "      <td>0.020000</td>\n",
       "      <td>0.013000</td>\n",
       "      <td>209.000000</td>\n",
       "      <td>0.000000</td>\n",
       "      <td>1226.000000</td>\n",
       "      <td>5.000000</td>\n",
       "      <td>0.000000</td>\n",
       "    </tr>\n",
       "    <tr>\n",
       "      <th>25%</th>\n",
       "      <td>161.000000</td>\n",
       "      <td>0.005000</td>\n",
       "      <td>0.033000</td>\n",
       "      <td>4.540000</td>\n",
       "      <td>0.495000</td>\n",
       "      <td>0.057000</td>\n",
       "      <td>0.040000</td>\n",
       "      <td>319.000000</td>\n",
       "      <td>45.000000</td>\n",
       "      <td>1369.000000</td>\n",
       "      <td>8.000000</td>\n",
       "      <td>4.000000</td>\n",
       "    </tr>\n",
       "    <tr>\n",
       "      <th>50%</th>\n",
       "      <td>165.000000</td>\n",
       "      <td>0.005000</td>\n",
       "      <td>0.038000</td>\n",
       "      <td>4.560000</td>\n",
       "      <td>0.587000</td>\n",
       "      <td>0.066000</td>\n",
       "      <td>0.042000</td>\n",
       "      <td>345.000000</td>\n",
       "      <td>49.000000</td>\n",
       "      <td>1389.000000</td>\n",
       "      <td>9.000000</td>\n",
       "      <td>5.000000</td>\n",
       "    </tr>\n",
       "    <tr>\n",
       "      <th>75%</th>\n",
       "      <td>170.000000</td>\n",
       "      <td>0.005000</td>\n",
       "      <td>0.045000</td>\n",
       "      <td>4.590000</td>\n",
       "      <td>0.705000</td>\n",
       "      <td>0.075000</td>\n",
       "      <td>0.046000</td>\n",
       "      <td>380.000000</td>\n",
       "      <td>55.000000</td>\n",
       "      <td>1409.000000</td>\n",
       "      <td>10.000000</td>\n",
       "      <td>5.000000</td>\n",
       "    </tr>\n",
       "    <tr>\n",
       "      <th>max</th>\n",
       "      <td>180.000000</td>\n",
       "      <td>0.012000</td>\n",
       "      <td>0.095000</td>\n",
       "      <td>4.770000</td>\n",
       "      <td>1.644000</td>\n",
       "      <td>0.145000</td>\n",
       "      <td>0.085000</td>\n",
       "      <td>1283.000000</td>\n",
       "      <td>198.000000</td>\n",
       "      <td>1574.000000</td>\n",
       "      <td>25.000000</td>\n",
       "      <td>15.000000</td>\n",
       "    </tr>\n",
       "  </tbody>\n",
       "</table>\n",
       "</div>"
      ],
      "text/plain": [
       "             HM_WT        AIM_S         HM_S         HM_C        HM_SI  \\\n",
       "count  5357.000000  5357.000000  5357.000000  5357.000000  5357.000000   \n",
       "mean    165.372597     0.004970     0.039591     4.562378     0.611921   \n",
       "std       6.278338     0.001029     0.009786     0.053763     0.165204   \n",
       "min     140.000000     0.003000     0.011000     4.120000     0.186000   \n",
       "25%     161.000000     0.005000     0.033000     4.540000     0.495000   \n",
       "50%     165.000000     0.005000     0.038000     4.560000     0.587000   \n",
       "75%     170.000000     0.005000     0.045000     4.590000     0.705000   \n",
       "max     180.000000     0.012000     0.095000     4.770000     1.644000   \n",
       "\n",
       "             HM_TI        HM_MN         CAC2           MG      HM_TEMP  \\\n",
       "count  5357.000000  5357.000000  5357.000000  5357.000000  5357.000000   \n",
       "mean      0.066539     0.042732   354.591002    50.373157  1388.696099   \n",
       "std       0.014726     0.004765    60.066805     9.257529    35.946031   \n",
       "min       0.020000     0.013000   209.000000     0.000000  1226.000000   \n",
       "25%       0.057000     0.040000   319.000000    45.000000  1369.000000   \n",
       "50%       0.066000     0.042000   345.000000    49.000000  1389.000000   \n",
       "75%       0.075000     0.046000   380.000000    55.000000  1409.000000   \n",
       "max       0.145000     0.085000  1283.000000   198.000000  1574.000000   \n",
       "\n",
       "       CAC2_INJ_TIME  MG_INJ_TIME  \n",
       "count    5357.000000  5357.000000  \n",
       "mean        9.373157     4.906478  \n",
       "std         1.704399     1.182880  \n",
       "min         5.000000     0.000000  \n",
       "25%         8.000000     4.000000  \n",
       "50%         9.000000     5.000000  \n",
       "75%        10.000000     5.000000  \n",
       "max        25.000000    15.000000  "
      ]
     },
     "execution_count": 49,
     "metadata": {},
     "output_type": "execute_result"
    }
   ],
   "source": [
    "sulphur_tr.describe()"
   ]
  },
  {
   "cell_type": "markdown",
   "id": "6f6a849b",
   "metadata": {},
   "source": [
    "# scikit learn"
   ]
  },
  {
   "cell_type": "markdown",
   "id": "3202227f",
   "metadata": {},
   "source": [
    "1. estimators -estimate some values/parameter based on a dataset e.g-imputer and has two methods- fit method -fits the data set and calculate the paramter and another one is tranform method \n",
    "2. tranformers -takes input and return output based on fit() it has convenience method called fit_transfom .which firstly fit then transform the data set\n",
    "3. predictors -linear regression model is the example of predictor fit and transform are two common function,it also give score functionwhich will evaluate the prediction\n"
   ]
  },
  {
   "cell_type": "markdown",
   "id": "2e806329",
   "metadata": {},
   "source": [
    "# feature scaling"
   ]
  },
  {
   "cell_type": "markdown",
   "id": "ae3b24e2",
   "metadata": {},
   "source": [
    "1. min max scaling --- value-min/(max-min)(normalization) MinMax scaler is provided by SkLearn\n",
    "\n",
    "2. standarization-----value-mean/std  SkLearn provide Standard Scaler for this"
   ]
  },
  {
   "cell_type": "markdown",
   "id": "368ac583",
   "metadata": {},
   "source": [
    "# # creating pipeline "
   ]
  },
  {
   "cell_type": "code",
   "execution_count": 50,
   "id": "e6f4ac89",
   "metadata": {},
   "outputs": [],
   "source": [
    "\n",
    "from sklearn.pipeline import Pipeline\n",
    "from sklearn.preprocessing import StandardScaler\n",
    "my_pipeline = Pipeline([\n",
    "    ('imputer',SimpleImputer (strategy = \"median\")),\n",
    "    ('std_scaler',StandardScaler())\n",
    "])\n",
    " "
   ]
  },
  {
   "cell_type": "code",
   "execution_count": 51,
   "id": "c4b774ef",
   "metadata": {},
   "outputs": [],
   "source": [
    "sulphur_num_tr= my_pipeline.fit_transform(sulphur_tr)\n"
   ]
  },
  {
   "cell_type": "code",
   "execution_count": 52,
   "id": "b1451616",
   "metadata": {},
   "outputs": [
    {
     "data": {
      "text/plain": [
       "array([[ 1.21498956,  0.02921756, -0.16254923, ..., -1.57740341,\n",
       "        -0.21895774,  0.9245438 ],\n",
       "       [-1.49298607,  0.02921756, -1.38885071, ...,  0.23103181,\n",
       "        -1.3925011 , -0.76640231],\n",
       "       [-1.81157143, -1.91511128, -1.59323428, ..., -0.65927476,\n",
       "        -0.80572942,  0.07907075],\n",
       "       ...,\n",
       "       [ 0.09994077,  0.02921756,  0.75717687, ...,  0.92658382,\n",
       "         0.36781395,  0.07907075],\n",
       "       [ 0.73711151,  0.02921756,  1.06375224, ..., -0.90967348,\n",
       "         0.95458563, -0.76640231],\n",
       "       [-0.53722996,  0.02921756, -0.4691246 , ..., -0.43669811,\n",
       "        -0.80572942, -0.76640231]])"
      ]
     },
     "execution_count": 52,
     "metadata": {},
     "output_type": "execute_result"
    }
   ],
   "source": [
    "sulphur_num_tr"
   ]
  },
  {
   "cell_type": "code",
   "execution_count": 53,
   "id": "c4286547",
   "metadata": {},
   "outputs": [
    {
     "data": {
      "text/plain": [
       "(5357, 12)"
      ]
     },
     "execution_count": 53,
     "metadata": {},
     "output_type": "execute_result"
    }
   ],
   "source": [
    "sulphur_num_tr.shape"
   ]
  },
  {
   "cell_type": "code",
   "execution_count": 54,
   "id": "13272504",
   "metadata": {},
   "outputs": [
    {
     "data": {
      "text/plain": [
       "(5357, 12)"
      ]
     },
     "execution_count": 54,
     "metadata": {},
     "output_type": "execute_result"
    }
   ],
   "source": [
    " my_pipeline.fit_transform(sulphur_tr).shape"
   ]
  },
  {
   "cell_type": "markdown",
   "id": "cabb5d7d",
   "metadata": {},
   "source": [
    "# Selecting model"
   ]
  },
  {
   "cell_type": "code",
   "execution_count": 55,
   "id": "b3670ec9",
   "metadata": {},
   "outputs": [
    {
     "data": {
      "text/plain": [
       "LinearRegression()"
      ]
     },
     "execution_count": 55,
     "metadata": {},
     "output_type": "execute_result"
    }
   ],
   "source": [
    "\n",
    "from sklearn.linear_model import LinearRegression\n",
    "from sklearn.tree import DecisionTreeRegressor\n",
    "from sklearn.ensemble  import RandomForestRegressor\n",
    "model = LinearRegression()\n",
    "#model = DecisionTreeRegressor()\n",
    "#model = RandomForestRegressor()\n",
    "model.fit(sulphur_num_tr,sulphur_labels)\n",
    "\n"
   ]
  },
  {
   "cell_type": "code",
   "execution_count": 56,
   "id": "d44e4484",
   "metadata": {},
   "outputs": [],
   "source": [
    "some_data = sulphur.iloc[:5] "
   ]
  },
  {
   "cell_type": "code",
   "execution_count": 57,
   "id": "c3a2facc",
   "metadata": {},
   "outputs": [],
   "source": [
    "some_labels = sulphur_labels.iloc[:5]"
   ]
  },
  {
   "cell_type": "code",
   "execution_count": 58,
   "id": "7f9ed385",
   "metadata": {},
   "outputs": [],
   "source": [
    "prepared_data = my_pipeline.transform(some_data)"
   ]
  },
  {
   "cell_type": "code",
   "execution_count": 59,
   "id": "7578b25e",
   "metadata": {},
   "outputs": [
    {
     "data": {
      "text/plain": [
       "array([0.0076134 , 0.00653267, 0.00413428, 0.00495357, 0.00672068])"
      ]
     },
     "execution_count": 59,
     "metadata": {},
     "output_type": "execute_result"
    }
   ],
   "source": [
    "model.predict(prepared_data)"
   ]
  },
  {
   "cell_type": "code",
   "execution_count": 60,
   "id": "e2b34e50",
   "metadata": {},
   "outputs": [
    {
     "data": {
      "text/plain": [
       "6578    0.008\n",
       "5758    0.007\n",
       "2549    0.005\n",
       "5230    0.006\n",
       "2147    0.006\n",
       "Name: DS_S, dtype: float64"
      ]
     },
     "execution_count": 60,
     "metadata": {},
     "output_type": "execute_result"
    }
   ],
   "source": [
    "some_labels\n",
    "     \n",
    "     \n",
    "     \n",
    "     \n",
    "     \n",
    "     "
   ]
  },
  {
   "cell_type": "code",
   "execution_count": 61,
   "id": "dcae6d3f",
   "metadata": {},
   "outputs": [
    {
     "data": {
      "text/plain": [
       "[0.008, 0.007, 0.005, 0.006, 0.006]"
      ]
     },
     "execution_count": 61,
     "metadata": {},
     "output_type": "execute_result"
    }
   ],
   "source": [
    "list(some_labels)"
   ]
  },
  {
   "cell_type": "markdown",
   "id": "d72a2149",
   "metadata": {},
   "source": [
    "# evalauting the model"
   ]
  },
  {
   "cell_type": "code",
   "execution_count": 62,
   "id": "c8c0e8ae",
   "metadata": {},
   "outputs": [],
   "source": [
    "from sklearn.metrics import mean_squared_error\n",
    "sulphur_predictions = model.predict(sulphur_num_tr)\n",
    "mse = mean_squared_error(sulphur_labels,sulphur_predictions)\n",
    "rmse=np.sqrt(mse)"
   ]
  },
  {
   "cell_type": "code",
   "execution_count": 63,
   "id": "77591f6b",
   "metadata": {},
   "outputs": [
    {
     "data": {
      "text/plain": [
       "0.0021664242515507534"
      ]
     },
     "execution_count": 63,
     "metadata": {},
     "output_type": "execute_result"
    }
   ],
   "source": [
    "rmse"
   ]
  },
  {
   "cell_type": "markdown",
   "id": "a1bb2313",
   "metadata": {},
   "source": [
    "# cross validation"
   ]
  },
  {
   "cell_type": "code",
   "execution_count": 64,
   "id": "173d56e2",
   "metadata": {},
   "outputs": [],
   "source": [
    "from sklearn.model_selection import cross_val_score\n",
    "scores = cross_val_score(model,sulphur_tr,sulphur_labels,scoring = \"neg_mean_squared_error\",cv=10)\n",
    "rmse_scores = np.sqrt(-scores)"
   ]
  },
  {
   "cell_type": "code",
   "execution_count": 65,
   "id": "36404658",
   "metadata": {},
   "outputs": [
    {
     "data": {
      "text/plain": [
       "array([0.00196566, 0.00214873, 0.00224571, 0.00229266, 0.00216875,\n",
       "       0.00220492, 0.00214649, 0.00203808, 0.00225095, 0.00232834])"
      ]
     },
     "execution_count": 65,
     "metadata": {},
     "output_type": "execute_result"
    }
   ],
   "source": [
    "rmse_scores"
   ]
  },
  {
   "cell_type": "code",
   "execution_count": 66,
   "id": "60e7f10b",
   "metadata": {},
   "outputs": [],
   "source": [
    " def print_scores(scores):\n",
    "    print(\"scores\",scores)\n",
    "    print(\"mean\",scores.mean())\n",
    "    print(\"standard deviation\",scores.std())"
   ]
  },
  {
   "cell_type": "code",
   "execution_count": 67,
   "id": "26bb23e2",
   "metadata": {},
   "outputs": [
    {
     "name": "stdout",
     "output_type": "stream",
     "text": [
      "scores [0.00196566 0.00214873 0.00224571 0.00229266 0.00216875 0.00220492\n",
      " 0.00214649 0.00203808 0.00225095 0.00232834]\n",
      "mean 0.0021790287805685095\n",
      "standard deviation 0.00010628512622171106\n"
     ]
    }
   ],
   "source": [
    "print_scores(rmse_scores)"
   ]
  },
  {
   "cell_type": "markdown",
   "id": "715b31ca",
   "metadata": {},
   "source": [
    "# saving the model "
   ]
  },
  {
   "cell_type": "code",
   "execution_count": 68,
   "id": "e5fa5557",
   "metadata": {},
   "outputs": [
    {
     "data": {
      "text/plain": [
       "['internship.joblib']"
      ]
     },
     "execution_count": 68,
     "metadata": {},
     "output_type": "execute_result"
    }
   ],
   "source": [
    "from joblib import dump,load\n",
    "dump(model, 'internship.joblib')"
   ]
  },
  {
   "cell_type": "code",
   "execution_count": 69,
   "id": "66258423",
   "metadata": {},
   "outputs": [
    {
     "data": {
      "text/plain": [
       "array([ 1.21498956,  0.02921756, -0.16254923,  0.88586278, -1.05891649,\n",
       "       -0.57988871,  1.94514003, -0.34283369,  0.06771806, -1.57740341,\n",
       "       -0.21895774,  0.9245438 ])"
      ]
     },
     "execution_count": 69,
     "metadata": {},
     "output_type": "execute_result"
    }
   ],
   "source": [
    "prepared_data[0]"
   ]
  },
  {
   "cell_type": "markdown",
   "id": "b676704f",
   "metadata": {},
   "source": [
    "# using the model"
   ]
  },
  {
   "cell_type": "code",
   "execution_count": 70,
   "id": "bffe820b",
   "metadata": {},
   "outputs": [],
   "source": [
    "from joblib import dump,load\n",
    "import numpy as np\n",
    "mode = load('internship.joblib')\n"
   ]
  },
  {
   "cell_type": "code",
   "execution_count": 71,
   "id": "113730f1",
   "metadata": {},
   "outputs": [
    {
     "data": {
      "text/plain": [
       "array([0.0076134])"
      ]
     },
     "execution_count": 71,
     "metadata": {},
     "output_type": "execute_result"
    }
   ],
   "source": [
    "input = np.array([(   1.21498956,  0.02921756, -0.16254923,  0.88586278, -1.05891649,\n",
    "       -0.57988871,  1.94514003, -0.34283369,  0.06771806, -1.57740341,\n",
    "       -0.21895774,  0.9245438    )])\n",
    "model.predict(input)\n",
    "#model.predict(features)"
   ]
  },
  {
   "cell_type": "markdown",
   "id": "97947871",
   "metadata": {},
   "source": [
    "# TESTING MODEL ON TEST DATA"
   ]
  },
  {
   "cell_type": "code",
   "execution_count": 72,
   "id": "5117ecb2",
   "metadata": {},
   "outputs": [],
   "source": [
    "X_test = strat_test_set.drop(\"DS_S\",axis=1)\n",
    "Y_test = strat_test_set[\"DS_S\"].copy()"
   ]
  },
  {
   "cell_type": "code",
   "execution_count": 73,
   "id": "71f0471c",
   "metadata": {},
   "outputs": [
    {
     "name": "stdout",
     "output_type": "stream",
     "text": [
      "[0.00788075 0.00236656 0.01098068 ... 0.00549219 0.00696439 0.01014826] [0.004, 0.003, 0.01, 0.011, 0.007, 0.008, 0.006, 0.004, 0.005, 0.005, 0.011, 0.007, 0.007, 0.012, 0.007, 0.007, 0.005, 0.005, 0.013, 0.007, 0.009, 0.007, 0.005, 0.004, 0.009, 0.004, 0.004, 0.01, 0.008, 0.006, 0.005, 0.011, 0.006, 0.009, 0.006, 0.006, 0.009, 0.009, 0.01, 0.009, 0.01, 0.004, 0.007, 0.007, 0.008, 0.009, 0.011, 0.005, 0.01, 0.01, 0.005, 0.01, 0.005, 0.006, 0.006, 0.008, 0.008, 0.005, 0.003, 0.009, 0.01, 0.004, 0.006, 0.008, 0.012, 0.004, 0.008, 0.006, 0.006, 0.007, 0.005, 0.007, 0.007, 0.012, 0.009, 0.005, 0.01, 0.004, 0.008, 0.009, 0.007, 0.013, 0.01, 0.003, 0.006, 0.01, 0.004, 0.009, 0.005, 0.003, 0.011, 0.01, 0.005, 0.011, 0.004, 0.008, 0.008, 0.006, 0.004, 0.007, 0.006, 0.008, 0.008, 0.006, 0.013, 0.006, 0.008, 0.006, 0.008, 0.011, 0.005, 0.004, 0.005, 0.006, 0.009, 0.008, 0.013, 0.007, 0.003, 0.008, 0.01, 0.005, 0.01, 0.004, 0.005, 0.008, 0.012, 0.005, 0.008, 0.01, 0.008, 0.007, 0.016, 0.016, 0.006, 0.009, 0.005, 0.007, 0.004, 0.011, 0.006, 0.009, 0.012, 0.01, 0.004, 0.005, 0.013, 0.008, 0.005, 0.01, 0.008, 0.004, 0.01, 0.006, 0.006, 0.006, 0.005, 0.011, 0.004, 0.006, 0.009, 0.008, 0.01, 0.011, 0.007, 0.006, 0.009, 0.005, 0.012, 0.007, 0.007, 0.008, 0.015, 0.004, 0.006, 0.004, 0.004, 0.005, 0.008, 0.005, 0.005, 0.016, 0.003, 0.006, 0.017, 0.006, 0.01, 0.01, 0.005, 0.009, 0.007, 0.007, 0.005, 0.004, 0.008, 0.008, 0.014, 0.008, 0.008, 0.006, 0.01, 0.006, 0.004, 0.008, 0.005, 0.007, 0.005, 0.01, 0.004, 0.007, 0.007, 0.003, 0.004, 0.007, 0.01, 0.011, 0.01, 0.011, 0.004, 0.004, 0.011, 0.005, 0.006, 0.012, 0.01, 0.008, 0.01, 0.007, 0.006, 0.007, 0.009, 0.011, 0.01, 0.01, 0.012, 0.012, 0.006, 0.006, 0.005, 0.006, 0.009, 0.003, 0.009, 0.009, 0.008, 0.006, 0.003, 0.005, 0.005, 0.007, 0.005, 0.007, 0.007, 0.011, 0.007, 0.006, 0.005, 0.005, 0.009, 0.014, 0.009, 0.011, 0.011, 0.005, 0.005, 0.006, 0.005, 0.004, 0.01, 0.01, 0.008, 0.005, 0.01, 0.005, 0.004, 0.008, 0.017, 0.008, 0.012, 0.01, 0.004, 0.008, 0.009, 0.014, 0.01, 0.005, 0.008, 0.009, 0.014, 0.006, 0.007, 0.005, 0.004, 0.005, 0.014, 0.009, 0.006, 0.008, 0.005, 0.005, 0.005, 0.005, 0.003, 0.006, 0.007, 0.006, 0.004, 0.006, 0.006, 0.01, 0.007, 0.009, 0.003, 0.009, 0.005, 0.006, 0.009, 0.008, 0.006, 0.006, 0.008, 0.006, 0.006, 0.005, 0.006, 0.006, 0.005, 0.008, 0.003, 0.006, 0.006, 0.008, 0.008, 0.004, 0.01, 0.007, 0.007, 0.008, 0.011, 0.004, 0.007, 0.005, 0.005, 0.012, 0.005, 0.008, 0.005, 0.006, 0.007, 0.007, 0.015, 0.01, 0.008, 0.007, 0.011, 0.006, 0.009, 0.012, 0.008, 0.005, 0.003, 0.011, 0.007, 0.009, 0.005, 0.009, 0.009, 0.007, 0.006, 0.01, 0.009, 0.008, 0.009, 0.004, 0.005, 0.007, 0.006, 0.007, 0.01, 0.009, 0.009, 0.008, 0.008, 0.009, 0.009, 0.009, 0.008, 0.007, 0.01, 0.007, 0.017, 0.01, 0.008, 0.006, 0.004, 0.007, 0.009, 0.005, 0.015, 0.005, 0.006, 0.008, 0.014, 0.008, 0.004, 0.007, 0.002, 0.01, 0.01, 0.004, 0.006, 0.007, 0.01, 0.006, 0.008, 0.015, 0.006, 0.012, 0.017, 0.006, 0.01, 0.009, 0.007, 0.007, 0.006, 0.011, 0.014, 0.005, 0.004, 0.008, 0.005, 0.005, 0.007, 0.008, 0.004, 0.009, 0.018, 0.01, 0.005, 0.009, 0.013, 0.005, 0.006, 0.008, 0.007, 0.006, 0.009, 0.005, 0.007, 0.012, 0.007, 0.007, 0.008, 0.005, 0.007, 0.009, 0.009, 0.006, 0.012, 0.006, 0.004, 0.006, 0.012, 0.012, 0.011, 0.008, 0.006, 0.012, 0.008, 0.007, 0.009, 0.006, 0.004, 0.006, 0.007, 0.006, 0.009, 0.006, 0.008, 0.007, 0.013, 0.017, 0.007, 0.003, 0.012, 0.007, 0.009, 0.007, 0.008, 0.006, 0.006, 0.005, 0.005, 0.003, 0.004, 0.005, 0.004, 0.009, 0.011, 0.005, 0.009, 0.008, 0.005, 0.011, 0.004, 0.008, 0.012, 0.006, 0.006, 0.006, 0.009, 0.004, 0.009, 0.003, 0.003, 0.004, 0.007, 0.008, 0.014, 0.012, 0.004, 0.014, 0.008, 0.012, 0.008, 0.003, 0.008, 0.009, 0.005, 0.015, 0.007, 0.009, 0.006, 0.009, 0.004, 0.008, 0.004, 0.005, 0.01, 0.012, 0.006, 0.01, 0.01, 0.015, 0.007, 0.01, 0.007, 0.006, 0.004, 0.009, 0.008, 0.009, 0.012, 0.006, 0.006, 0.009, 0.007, 0.007, 0.01, 0.008, 0.009, 0.002, 0.006, 0.007, 0.005, 0.007, 0.01, 0.004, 0.011, 0.005, 0.011, 0.005, 0.004, 0.007, 0.004, 0.008, 0.007, 0.006, 0.007, 0.007, 0.009, 0.012, 0.005, 0.012, 0.005, 0.005, 0.008, 0.016, 0.01, 0.005, 0.01, 0.004, 0.005, 0.014, 0.005, 0.011, 0.01, 0.016, 0.013, 0.008, 0.008, 0.006, 0.004, 0.007, 0.003, 0.009, 0.01, 0.012, 0.004, 0.006, 0.003, 0.01, 0.005, 0.012, 0.004, 0.006, 0.005, 0.009, 0.005, 0.005, 0.003, 0.01, 0.003, 0.005, 0.007, 0.01, 0.008, 0.009, 0.006, 0.005, 0.008, 0.01, 0.005, 0.006, 0.007, 0.008, 0.01, 0.014, 0.008, 0.006, 0.005, 0.011, 0.01, 0.009, 0.004, 0.007, 0.009, 0.011, 0.006, 0.011, 0.013, 0.007, 0.006, 0.007, 0.006, 0.004, 0.007, 0.006, 0.004, 0.005, 0.01, 0.01, 0.008, 0.008, 0.012, 0.009, 0.008, 0.007, 0.004, 0.012, 0.011, 0.01, 0.004, 0.004, 0.009, 0.007, 0.01, 0.006, 0.005, 0.011, 0.012, 0.007, 0.004, 0.007, 0.008, 0.01, 0.007, 0.02, 0.009, 0.011, 0.008, 0.01, 0.006, 0.01, 0.004, 0.006, 0.007, 0.005, 0.007, 0.006, 0.006, 0.004, 0.007, 0.004, 0.007, 0.005, 0.011, 0.004, 0.008, 0.004, 0.005, 0.006, 0.006, 0.005, 0.008, 0.007, 0.011, 0.006, 0.011, 0.005, 0.005, 0.008, 0.005, 0.006, 0.008, 0.011, 0.007, 0.005, 0.009, 0.01, 0.009, 0.011, 0.009, 0.006, 0.006, 0.005, 0.006, 0.007, 0.005, 0.011, 0.003, 0.008, 0.004, 0.004, 0.011, 0.007, 0.009, 0.003, 0.008, 0.006, 0.006, 0.003, 0.014, 0.013, 0.008, 0.007, 0.012, 0.005, 0.012, 0.009, 0.005, 0.007, 0.013, 0.01, 0.007, 0.009, 0.007, 0.004, 0.009, 0.01, 0.01, 0.007, 0.01, 0.006, 0.004, 0.012, 0.007, 0.009, 0.005, 0.007, 0.006, 0.003, 0.008, 0.006, 0.006, 0.01, 0.006, 0.011, 0.009, 0.003, 0.005, 0.009, 0.004, 0.01, 0.004, 0.013, 0.008, 0.006, 0.006, 0.01, 0.01, 0.012, 0.01, 0.011, 0.007, 0.003, 0.007, 0.009, 0.008, 0.012, 0.01, 0.008, 0.007, 0.008, 0.009, 0.005, 0.011, 0.009, 0.005, 0.01, 0.005, 0.006, 0.012, 0.009, 0.005, 0.006, 0.009, 0.006, 0.012, 0.008, 0.009, 0.012, 0.01, 0.009, 0.005, 0.004, 0.006, 0.006, 0.005, 0.004, 0.011, 0.007, 0.009, 0.007, 0.008, 0.007, 0.005, 0.009, 0.005, 0.007, 0.008, 0.004, 0.005, 0.006, 0.009, 0.007, 0.006, 0.01, 0.004, 0.007, 0.003, 0.009, 0.005, 0.007, 0.005, 0.006, 0.01, 0.012, 0.006, 0.005, 0.008, 0.01, 0.011, 0.005, 0.007, 0.023, 0.005, 0.013, 0.009, 0.005, 0.006, 0.01, 0.006, 0.012, 0.004, 0.005, 0.009, 0.005, 0.008, 0.008, 0.005, 0.008, 0.005, 0.007, 0.007, 0.008, 0.006, 0.01, 0.01, 0.005, 0.01, 0.004, 0.004, 0.008, 0.014, 0.011, 0.009, 0.005, 0.005, 0.009, 0.003, 0.012, 0.013, 0.007, 0.006, 0.006, 0.006, 0.006, 0.006, 0.005, 0.005, 0.01, 0.007, 0.007, 0.005, 0.005, 0.01, 0.006, 0.01, 0.007, 0.009, 0.012, 0.01, 0.006, 0.005, 0.008, 0.007, 0.011, 0.006, 0.012, 0.005, 0.004, 0.005, 0.007, 0.005, 0.007, 0.008, 0.008, 0.007, 0.008, 0.007, 0.008, 0.005, 0.005, 0.008, 0.013, 0.012, 0.01, 0.006, 0.004, 0.005, 0.007, 0.01, 0.012, 0.011, 0.006, 0.009, 0.006, 0.01, 0.007, 0.004, 0.01, 0.009, 0.007, 0.007, 0.004, 0.009, 0.006, 0.009, 0.007, 0.006, 0.008, 0.008, 0.005, 0.006, 0.009, 0.008, 0.006, 0.008, 0.011, 0.006, 0.007, 0.004, 0.01, 0.006, 0.01, 0.009, 0.009, 0.008, 0.006, 0.006, 0.006, 0.009, 0.008, 0.01, 0.009, 0.011, 0.009, 0.012, 0.004, 0.015, 0.009, 0.008, 0.006, 0.008, 0.011, 0.009, 0.006, 0.006, 0.017, 0.006, 0.006, 0.005, 0.008, 0.007, 0.008, 0.013, 0.007, 0.006, 0.006, 0.008, 0.008, 0.004, 0.006, 0.006, 0.007, 0.013, 0.007, 0.01, 0.006, 0.009, 0.008, 0.007, 0.013, 0.006, 0.006, 0.006, 0.004, 0.008, 0.01, 0.003, 0.006, 0.009, 0.007, 0.007, 0.006, 0.005, 0.004, 0.008, 0.005, 0.009, 0.003, 0.004, 0.006, 0.011, 0.005, 0.01, 0.008, 0.006, 0.007, 0.01, 0.01, 0.004, 0.006, 0.014, 0.002, 0.014, 0.009, 0.006, 0.01, 0.008, 0.007, 0.006, 0.006, 0.008, 0.009, 0.004, 0.005, 0.006, 0.004, 0.006, 0.005, 0.005, 0.005, 0.008, 0.014, 0.011, 0.007, 0.008, 0.005, 0.004, 0.011, 0.005, 0.009, 0.007, 0.006, 0.01, 0.005, 0.005, 0.005, 0.006, 0.009, 0.009, 0.009, 0.006, 0.013, 0.006, 0.009, 0.009, 0.009, 0.008, 0.008, 0.009, 0.004, 0.013, 0.004, 0.01, 0.007, 0.01, 0.008, 0.008, 0.01, 0.007, 0.007, 0.003, 0.011, 0.003, 0.007, 0.006, 0.009, 0.008, 0.01, 0.012, 0.005, 0.005, 0.005, 0.004, 0.004, 0.005, 0.012, 0.006, 0.011, 0.005, 0.01, 0.009, 0.005, 0.013, 0.006, 0.005, 0.01, 0.011, 0.003, 0.005, 0.007, 0.013, 0.005, 0.015, 0.003, 0.01, 0.007, 0.005, 0.007, 0.006, 0.008, 0.006, 0.007, 0.006, 0.005, 0.009, 0.008, 0.008, 0.01, 0.013, 0.007, 0.008, 0.006, 0.011, 0.007, 0.005, 0.004, 0.01, 0.005, 0.013, 0.007, 0.005, 0.009, 0.009, 0.013, 0.009, 0.007, 0.006, 0.01, 0.01, 0.005, 0.01, 0.005, 0.007, 0.009, 0.006, 0.008, 0.005, 0.003, 0.004, 0.007, 0.007, 0.005, 0.007, 0.008, 0.006, 0.005, 0.005, 0.006, 0.006, 0.009, 0.008, 0.005, 0.002, 0.005, 0.004, 0.006, 0.006, 0.005, 0.005, 0.006, 0.007, 0.007, 0.007, 0.008, 0.007, 0.003, 0.006, 0.012, 0.005, 0.004, 0.004, 0.005, 0.006, 0.008, 0.007, 0.005, 0.013, 0.006, 0.006, 0.005, 0.007, 0.009, 0.015, 0.009, 0.007, 0.006, 0.011, 0.002, 0.005, 0.008, 0.005, 0.005, 0.01, 0.011, 0.006, 0.006, 0.003, 0.006, 0.008, 0.006, 0.005, 0.005, 0.005, 0.01, 0.004, 0.01, 0.008, 0.012, 0.006, 0.009, 0.006, 0.011, 0.006, 0.007, 0.004, 0.006, 0.01, 0.007, 0.006, 0.005, 0.005, 0.011, 0.007, 0.008, 0.005, 0.007, 0.01, 0.011, 0.011, 0.005, 0.013, 0.008, 0.01, 0.007, 0.009, 0.006, 0.011, 0.006, 0.006, 0.005, 0.006, 0.007, 0.004, 0.008, 0.007, 0.01, 0.004, 0.006, 0.006, 0.005, 0.005, 0.005, 0.01, 0.009, 0.004, 0.01, 0.009, 0.004, 0.005, 0.01, 0.01, 0.011, 0.006, 0.006, 0.008, 0.007]\n"
     ]
    }
   ],
   "source": [
    "\n",
    "X_test = strat_test_set.drop(\"DS_S\",axis=1)\n",
    "Y_test = strat_test_set[\"DS_S\"].copy()\n",
    "X_test = X_test.drop(\"CASTNO\",axis=1)# changes\n",
    "X_test_prepared = my_pipeline.transform(X_test)\n",
    "final_predictions = model.predict(X_test_prepared)\n",
    "final_mse = mean_squared_error(Y_test, final_predictions)\n",
    "final_rmse = np.sqrt(final_mse)\n",
    "print(final_predictions, list(Y_test))"
   ]
  },
  {
   "cell_type": "code",
   "execution_count": 74,
   "id": "d7457f78",
   "metadata": {},
   "outputs": [
    {
     "data": {
      "text/html": [
       "<div>\n",
       "<style scoped>\n",
       "    .dataframe tbody tr th:only-of-type {\n",
       "        vertical-align: middle;\n",
       "    }\n",
       "\n",
       "    .dataframe tbody tr th {\n",
       "        vertical-align: top;\n",
       "    }\n",
       "\n",
       "    .dataframe thead th {\n",
       "        text-align: right;\n",
       "    }\n",
       "</style>\n",
       "<table border=\"1\" class=\"dataframe\">\n",
       "  <thead>\n",
       "    <tr style=\"text-align: right;\">\n",
       "      <th></th>\n",
       "      <th>HM_WT</th>\n",
       "      <th>AIM_S</th>\n",
       "      <th>HM_S</th>\n",
       "      <th>HM_C</th>\n",
       "      <th>HM_SI</th>\n",
       "      <th>HM_TI</th>\n",
       "      <th>HM_MN</th>\n",
       "      <th>CAC2</th>\n",
       "      <th>MG</th>\n",
       "      <th>HM_TEMP</th>\n",
       "      <th>CAC2_INJ_TIME</th>\n",
       "      <th>MG_INJ_TIME</th>\n",
       "    </tr>\n",
       "  </thead>\n",
       "  <tbody>\n",
       "    <tr>\n",
       "      <th>count</th>\n",
       "      <td>1340.000000</td>\n",
       "      <td>1340.000000</td>\n",
       "      <td>1340.000000</td>\n",
       "      <td>1340.000000</td>\n",
       "      <td>1340.000000</td>\n",
       "      <td>1340.000000</td>\n",
       "      <td>1340.000000</td>\n",
       "      <td>1340.000000</td>\n",
       "      <td>1340.000000</td>\n",
       "      <td>1218.000000</td>\n",
       "      <td>1340.000000</td>\n",
       "      <td>1340.000000</td>\n",
       "    </tr>\n",
       "    <tr>\n",
       "      <th>mean</th>\n",
       "      <td>165.565672</td>\n",
       "      <td>0.004966</td>\n",
       "      <td>0.039499</td>\n",
       "      <td>4.563784</td>\n",
       "      <td>0.615249</td>\n",
       "      <td>0.066666</td>\n",
       "      <td>0.042743</td>\n",
       "      <td>354.250000</td>\n",
       "      <td>50.460448</td>\n",
       "      <td>1387.082923</td>\n",
       "      <td>9.370149</td>\n",
       "      <td>4.969403</td>\n",
       "    </tr>\n",
       "    <tr>\n",
       "      <th>std</th>\n",
       "      <td>6.463618</td>\n",
       "      <td>0.001020</td>\n",
       "      <td>0.010218</td>\n",
       "      <td>0.052735</td>\n",
       "      <td>0.169449</td>\n",
       "      <td>0.014634</td>\n",
       "      <td>0.004927</td>\n",
       "      <td>58.292823</td>\n",
       "      <td>9.194151</td>\n",
       "      <td>37.499763</td>\n",
       "      <td>1.724143</td>\n",
       "      <td>1.248074</td>\n",
       "    </tr>\n",
       "    <tr>\n",
       "      <th>min</th>\n",
       "      <td>142.000000</td>\n",
       "      <td>0.003000</td>\n",
       "      <td>0.015000</td>\n",
       "      <td>4.250000</td>\n",
       "      <td>0.244000</td>\n",
       "      <td>0.025000</td>\n",
       "      <td>0.028000</td>\n",
       "      <td>231.000000</td>\n",
       "      <td>0.000000</td>\n",
       "      <td>1245.000000</td>\n",
       "      <td>6.000000</td>\n",
       "      <td>0.000000</td>\n",
       "    </tr>\n",
       "    <tr>\n",
       "      <th>25%</th>\n",
       "      <td>161.000000</td>\n",
       "      <td>0.005000</td>\n",
       "      <td>0.032000</td>\n",
       "      <td>4.540000</td>\n",
       "      <td>0.496750</td>\n",
       "      <td>0.057000</td>\n",
       "      <td>0.039000</td>\n",
       "      <td>315.000000</td>\n",
       "      <td>45.000000</td>\n",
       "      <td>1365.000000</td>\n",
       "      <td>8.000000</td>\n",
       "      <td>4.000000</td>\n",
       "    </tr>\n",
       "    <tr>\n",
       "      <th>50%</th>\n",
       "      <td>165.000000</td>\n",
       "      <td>0.005000</td>\n",
       "      <td>0.038000</td>\n",
       "      <td>4.560000</td>\n",
       "      <td>0.584500</td>\n",
       "      <td>0.066000</td>\n",
       "      <td>0.042500</td>\n",
       "      <td>346.000000</td>\n",
       "      <td>49.000000</td>\n",
       "      <td>1388.000000</td>\n",
       "      <td>9.000000</td>\n",
       "      <td>5.000000</td>\n",
       "    </tr>\n",
       "    <tr>\n",
       "      <th>75%</th>\n",
       "      <td>170.000000</td>\n",
       "      <td>0.005000</td>\n",
       "      <td>0.045000</td>\n",
       "      <td>4.590000</td>\n",
       "      <td>0.709250</td>\n",
       "      <td>0.076000</td>\n",
       "      <td>0.046000</td>\n",
       "      <td>382.000000</td>\n",
       "      <td>55.000000</td>\n",
       "      <td>1409.000000</td>\n",
       "      <td>10.000000</td>\n",
       "      <td>6.000000</td>\n",
       "    </tr>\n",
       "    <tr>\n",
       "      <th>max</th>\n",
       "      <td>180.000000</td>\n",
       "      <td>0.010000</td>\n",
       "      <td>0.080000</td>\n",
       "      <td>4.740000</td>\n",
       "      <td>1.440000</td>\n",
       "      <td>0.128000</td>\n",
       "      <td>0.066000</td>\n",
       "      <td>862.000000</td>\n",
       "      <td>114.000000</td>\n",
       "      <td>1570.000000</td>\n",
       "      <td>20.000000</td>\n",
       "      <td>11.000000</td>\n",
       "    </tr>\n",
       "  </tbody>\n",
       "</table>\n",
       "</div>"
      ],
      "text/plain": [
       "             HM_WT        AIM_S         HM_S         HM_C        HM_SI  \\\n",
       "count  1340.000000  1340.000000  1340.000000  1340.000000  1340.000000   \n",
       "mean    165.565672     0.004966     0.039499     4.563784     0.615249   \n",
       "std       6.463618     0.001020     0.010218     0.052735     0.169449   \n",
       "min     142.000000     0.003000     0.015000     4.250000     0.244000   \n",
       "25%     161.000000     0.005000     0.032000     4.540000     0.496750   \n",
       "50%     165.000000     0.005000     0.038000     4.560000     0.584500   \n",
       "75%     170.000000     0.005000     0.045000     4.590000     0.709250   \n",
       "max     180.000000     0.010000     0.080000     4.740000     1.440000   \n",
       "\n",
       "             HM_TI        HM_MN         CAC2           MG      HM_TEMP  \\\n",
       "count  1340.000000  1340.000000  1340.000000  1340.000000  1218.000000   \n",
       "mean      0.066666     0.042743   354.250000    50.460448  1387.082923   \n",
       "std       0.014634     0.004927    58.292823     9.194151    37.499763   \n",
       "min       0.025000     0.028000   231.000000     0.000000  1245.000000   \n",
       "25%       0.057000     0.039000   315.000000    45.000000  1365.000000   \n",
       "50%       0.066000     0.042500   346.000000    49.000000  1388.000000   \n",
       "75%       0.076000     0.046000   382.000000    55.000000  1409.000000   \n",
       "max       0.128000     0.066000   862.000000   114.000000  1570.000000   \n",
       "\n",
       "       CAC2_INJ_TIME  MG_INJ_TIME  \n",
       "count    1340.000000  1340.000000  \n",
       "mean        9.370149     4.969403  \n",
       "std         1.724143     1.248074  \n",
       "min         6.000000     0.000000  \n",
       "25%         8.000000     4.000000  \n",
       "50%         9.000000     5.000000  \n",
       "75%        10.000000     6.000000  \n",
       "max        20.000000    11.000000  "
      ]
     },
     "execution_count": 74,
     "metadata": {},
     "output_type": "execute_result"
    }
   ],
   "source": [
    "X_test.describe()"
   ]
  },
  {
   "cell_type": "code",
   "execution_count": 75,
   "id": "45bc8e85",
   "metadata": {},
   "outputs": [
    {
     "data": {
      "text/plain": [
       "count    1340.000000\n",
       "mean        0.007519\n",
       "std         0.002798\n",
       "min         0.002000\n",
       "25%         0.005000\n",
       "50%         0.007000\n",
       "75%         0.009000\n",
       "max         0.023000\n",
       "Name: DS_S, dtype: float64"
      ]
     },
     "execution_count": 75,
     "metadata": {},
     "output_type": "execute_result"
    }
   ],
   "source": [
    "Y_test.describe()"
   ]
  },
  {
   "cell_type": "markdown",
   "id": "e99d5d14",
   "metadata": {},
   "source": [
    "# model hit rate"
   ]
  },
  {
   "cell_type": "code",
   "execution_count": 80,
   "id": "c8b5e61d",
   "metadata": {},
   "outputs": [
    {
     "ename": "TypeError",
     "evalue": "'numpy.float64' object is not callable",
     "output_type": "error",
     "traceback": [
      "\u001b[1;31m----------------------------------------------------------------------\u001b[0m",
      "\u001b[1;31mTypeError\u001b[0m                            Traceback (most recent call last)",
      "Input \u001b[1;32mIn [80]\u001b[0m, in \u001b[0;36m<cell line: 1>\u001b[1;34m()\u001b[0m\n\u001b[1;32m----> 1\u001b[0m pred_test \u001b[38;5;241m=\u001b[39m \u001b[43mfinal_mse\u001b[49m\u001b[43m(\u001b[49m\u001b[43mX_test\u001b[49m\u001b[43m,\u001b[49m\u001b[43mfinal_predictions\u001b[49m\u001b[43m)\u001b[49m\n\u001b[0;32m      2\u001b[0m pred_train \u001b[38;5;241m=\u001b[39m final_mse(X_train,final_predictions)\n",
      "\u001b[1;31mTypeError\u001b[0m: 'numpy.float64' object is not callable"
     ]
    }
   ],
   "source": [
    "pred_test = final_mse(X_test,final_predictions)\n",
    "pred_train = final_mse(X_train,final_predictions)"
   ]
  },
  {
   "cell_type": "code",
   "execution_count": null,
   "id": "3afe1760",
   "metadata": {},
   "outputs": [],
   "source": [
    "Y_test = list(Y_test)\n",
    "Y_train = list(Y_train)\n",
    "err_test = [X-Y for X,Y in zip(pred_test,Y_test)]\n",
    "err_train = [X-Y for X,Y in zip(pred_train,Y_train)]\n",
    "\n",
    "# finding the strike rates on the datasets\n",
    "strike_rate_test = 100*sum([np.abs(X)<=check for x in err_test])/len(err_test)\n",
    "strike_rate_train = 100*sum([np.abs(X)<=check for x in err_train])/len(err_train)\n"
   ]
  }
 ],
 "metadata": {
  "kernelspec": {
   "display_name": "Python 3 (ipykernel)",
   "language": "python",
   "name": "python3"
  },
  "language_info": {
   "codemirror_mode": {
    "name": "ipython",
    "version": 3
   },
   "file_extension": ".py",
   "mimetype": "text/x-python",
   "name": "python",
   "nbconvert_exporter": "python",
   "pygments_lexer": "ipython3",
   "version": "3.10.4"
  }
 },
 "nbformat": 4,
 "nbformat_minor": 5
}
